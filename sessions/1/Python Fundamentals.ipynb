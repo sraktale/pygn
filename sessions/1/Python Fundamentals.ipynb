{
 "cells": [
  {
   "cell_type": "markdown",
   "metadata": {},
   "source": [
    "# Python Basics"
   ]
  },
  {
   "cell_type": "markdown",
   "metadata": {},
   "source": [
    "## Hello, World"
   ]
  },
  {
   "cell_type": "code",
   "execution_count": 71,
   "metadata": {},
   "outputs": [
    {
     "name": "stdout",
     "output_type": "stream",
     "text": [
      "Hello, World\n"
     ]
    }
   ],
   "source": [
    "print('Hello, World')"
   ]
  },
  {
   "cell_type": "raw",
   "metadata": {},
   "source": [
    "Exercise 1 : Add a cell below and write a print statement to say Hello to your best friend."
   ]
  },
  {
   "cell_type": "markdown",
   "metadata": {},
   "source": [
    "## Software Architecture - Data and Control"
   ]
  },
  {
   "cell_type": "markdown",
   "metadata": {},
   "source": [
    "Computer software is all about processing data to obtain information. Input data is processed by control logic to give output data."
   ]
  },
  {
   "cell_type": "markdown",
   "metadata": {},
   "source": [
    "For example, let's have a look at the \"print('Hello, World')\" statement above. \n",
    "What we did there is we simply provided a text input - 'Hello World' and we got a text output printed/displayed on our screen.\n",
    "\n",
    "\"print\" is just a bunch of code grouped together that has a name (\"print\"), receives an input, performs some operation and returns an output. A grouping of code like this what we also call a \"function\" and we will see more about how we can create our own groupings of code (or functions) further down in the session.\n"
   ]
  },
  {
   "cell_type": "markdown",
   "metadata": {},
   "source": [
    "Today, data comes in several forms but can be broadly classified into three buckets, voice, image/video and numeric/text.\n",
    "\n",
    "    - Alexa and Siri are examples of voice processing applications.\n",
    "\n",
    "    - Youtube, Instagram, Snapchat are examples of image/video processing applications.\n",
    "\n",
    "    - Microsoft Excel is an example of numeric processing application."
   ]
  },
  {
   "cell_type": "markdown",
   "metadata": {},
   "source": [
    "Control refers to the processing logic which takes data and produces end results for us.\n",
    "\n",
    "As an example, Alexa takes voice commands (data) from users, interprets those commands and produce relevant results (a video, an image or a web page).\n",
    "\n"
   ]
  },
  {
   "cell_type": "markdown",
   "metadata": {},
   "source": [
    "## Data"
   ]
  },
  {
   "cell_type": "markdown",
   "metadata": {},
   "source": [
    "As discussed earlier, data can be broadly classfied as voice, image/video and numeric/text. \n",
    "\n",
    "Today we will focus primarily on numeric/text data, ways to store such data and finally analyze/manipulate such data as per our requirements."
   ]
  },
  {
   "cell_type": "markdown",
   "metadata": {},
   "source": [
    "### Constants and Variables"
   ]
  },
  {
   "cell_type": "markdown",
   "metadata": {},
   "source": [
    "#### Constants"
   ]
  },
  {
   "cell_type": "markdown",
   "metadata": {},
   "source": [
    "In summary, one can call a constant as something which does not change its value."
   ]
  },
  {
   "cell_type": "markdown",
   "metadata": {},
   "source": [
    "There are several kinds of constants in the real world like\n",
    "\n",
    "* Numbers, like 1, 3, 5, 7, 11 (commonly) called integers \n",
    "* Numbers, like 3.14, 1.414, 1.732 commonly called as decimal numbers, which have a integral and a fractional part.\n",
    "* Character sequences like ' Python', 'Java', 'Math', 'Physics', commonly called as strings in programming languages.\n",
    "* Boolean constants, True and False e.g. The Sun rises from the East, is a True statement."
   ]
  },
  {
   "cell_type": "markdown",
   "metadata": {},
   "source": [
    "#### Variables"
   ]
  },
  {
   "cell_type": "markdown",
   "metadata": {},
   "source": [
    "A variable can be thought of something which refers to a constant, points to a constant or is a handle to a constant.\n",
    "\n",
    "We need variables because we sometimes want to keep data in our source code in a place where we can recall it later and use it again."
   ]
  },
  {
   "cell_type": "code",
   "execution_count": 72,
   "metadata": {},
   "outputs": [
    {
     "name": "stdout",
     "output_type": "stream",
     "text": [
      "1\n"
     ]
    }
   ],
   "source": [
    "number = 1\n",
    "print(number)"
   ]
  },
  {
   "cell_type": "markdown",
   "metadata": {},
   "source": [
    "\"number\" above is an example of a variable. Because the type of data stored in \"number\" is numeric, it is known as an integer variable.\n",
    "Variables are categorized by their data types, e.g. integer, string, boolean, etc."
   ]
  },
  {
   "cell_type": "code",
   "execution_count": 73,
   "metadata": {},
   "outputs": [
    {
     "name": "stdout",
     "output_type": "stream",
     "text": [
      "3.14\n"
     ]
    }
   ],
   "source": [
    "pi = 3.14  #example of a float variable because it holds a decimal number\n",
    "print(pi)"
   ]
  },
  {
   "cell_type": "markdown",
   "metadata": {},
   "source": [
    "###### As you can see above, we used \"#\" to explain in plain words what the code means, this is called a comment. The # is used to introduce comments in Python and they are important because it's how we explain our code to other programmers. \n",
    "\n"
   ]
  },
  {
   "cell_type": "code",
   "execution_count": 74,
   "metadata": {},
   "outputs": [
    {
     "name": "stdout",
     "output_type": "stream",
     "text": [
      "Python\n"
     ]
    }
   ],
   "source": [
    "prog_lang = 'Python' #string variable\n",
    "print(prog_lang)"
   ]
  },
  {
   "cell_type": "code",
   "execution_count": 75,
   "metadata": {},
   "outputs": [
    {
     "name": "stdout",
     "output_type": "stream",
     "text": [
      "True\n"
     ]
    }
   ],
   "source": [
    "state = True\n",
    "print(state)"
   ]
  },
  {
   "cell_type": "raw",
   "metadata": {},
   "source": [
    "Exercise 2: Create variables to:\n",
    "    \n",
    "    * Store your name.\n",
    "    * Store your age.\n",
    "    * Store your house address.\n",
    "    \n",
    "and finally, print each of these variables."
   ]
  },
  {
   "cell_type": "code",
   "execution_count": null,
   "metadata": {},
   "outputs": [],
   "source": []
  },
  {
   "cell_type": "code",
   "execution_count": null,
   "metadata": {},
   "outputs": [],
   "source": []
  },
  {
   "cell_type": "markdown",
   "metadata": {},
   "source": [
    "### Collections"
   ]
  },
  {
   "cell_type": "markdown",
   "metadata": {},
   "source": [
    "The data types explained above are known as the primitive or basic data types. From these primitive data types we can build more complex ones by combining them together."
   ]
  },
  {
   "cell_type": "markdown",
   "metadata": {},
   "source": [
    "#### Lists"
   ]
  },
  {
   "cell_type": "markdown",
   "metadata": {},
   "source": [
    "A list is essentially a sequence of elements - variables or constants."
   ]
  },
  {
   "cell_type": "code",
   "execution_count": 76,
   "metadata": {},
   "outputs": [],
   "source": [
    "f_pop_artists = ['Ariana Grande', 'Taylor Swift', 'Beyonce Knowles', 'Selena Gomez', 'Lady Gaga']\n",
    "m_pop_artists = ['Ed Sheeran', 'Zayn Malik', 'Bruno Mars', 'Justin Bieber', 'Justin Timberlake']"
   ]
  },
  {
   "cell_type": "code",
   "execution_count": 77,
   "metadata": {},
   "outputs": [
    {
     "name": "stdout",
     "output_type": "stream",
     "text": [
      "['Ariana Grande', 'Taylor Swift', 'Beyonce Knowles', 'Selena Gomez', 'Lady Gaga']\n"
     ]
    }
   ],
   "source": [
    "print(f_pop_artists)"
   ]
  },
  {
   "cell_type": "markdown",
   "metadata": {},
   "source": [
    "In the above, f_pop_artist is a variable of type list which contains several string constants."
   ]
  },
  {
   "cell_type": "markdown",
   "metadata": {},
   "source": [
    "##### List Indexing"
   ]
  },
  {
   "cell_type": "markdown",
   "metadata": {},
   "source": [
    "In order to access certain elements of the list we use [] operator; this is called list indexing."
   ]
  },
  {
   "cell_type": "code",
   "execution_count": 78,
   "metadata": {},
   "outputs": [
    {
     "name": "stdout",
     "output_type": "stream",
     "text": [
      "Ariana Grande | Beyonce Knowles\n"
     ]
    }
   ],
   "source": [
    "print(f_pop_artists[0], '|', f_pop_artists[2])"
   ]
  },
  {
   "cell_type": "markdown",
   "metadata": {},
   "source": [
    "One can have lists of lists."
   ]
  },
  {
   "cell_type": "code",
   "execution_count": 79,
   "metadata": {},
   "outputs": [],
   "source": [
    "pop_artists = [ f_pop_artists, m_pop_artists ]"
   ]
  },
  {
   "cell_type": "code",
   "execution_count": 80,
   "metadata": {},
   "outputs": [
    {
     "name": "stdout",
     "output_type": "stream",
     "text": [
      "['Ariana Grande', 'Taylor Swift', 'Beyonce Knowles', 'Selena Gomez', 'Lady Gaga']\n",
      "['Ed Sheeran', 'Zayn Malik', 'Bruno Mars', 'Justin Bieber', 'Justin Timberlake']\n"
     ]
    }
   ],
   "source": [
    "print(pop_artists[0])\n",
    "print(pop_artists[1])"
   ]
  },
  {
   "cell_type": "code",
   "execution_count": 81,
   "metadata": {},
   "outputs": [
    {
     "name": "stdout",
     "output_type": "stream",
     "text": [
      "Ariana Grande\n"
     ]
    }
   ],
   "source": [
    "print(pop_artists[0][0])"
   ]
  },
  {
   "cell_type": "code",
   "execution_count": 82,
   "metadata": {},
   "outputs": [
    {
     "name": "stdout",
     "output_type": "stream",
     "text": [
      "Ed Sheeran\n"
     ]
    }
   ],
   "source": [
    "print(pop_artists[1][0])"
   ]
  },
  {
   "cell_type": "markdown",
   "metadata": {},
   "source": [
    "## Control"
   ]
  },
  {
   "cell_type": "markdown",
   "metadata": {},
   "source": [
    "As discussed earlier, control refers to the processing logic which consumes data and produces results. \n",
    "\n",
    "There are different ways in which the processing logic can flow in a program; here are the basic ones which you will find in any programming language:\n",
    "\n",
    "        Sequence (or sequential)\n",
    "        Conditional (or branching)\n",
    "        Iteration (or looping)\n"
   ]
  },
  {
   "cell_type": "markdown",
   "metadata": {},
   "source": [
    "### Sequence"
   ]
  },
  {
   "cell_type": "markdown",
   "metadata": {},
   "source": [
    "A sequence is nothing but a set of instructions to the computer to be executed one after another. You can think of them as individual 'commands' to the computer.\n",
    "\n",
    "Programming is nothing but finding the right sequence of instructions to be given to the computer to solve a particular problem."
   ]
  },
  {
   "cell_type": "code",
   "execution_count": 83,
   "metadata": {},
   "outputs": [
    {
     "name": "stdout",
     "output_type": "stream",
     "text": [
      "4200000000.0\n",
      "625\n"
     ]
    }
   ],
   "source": [
    "x = 1\n",
    "city = 'London'\n",
    "country = 'United Kingdom'\n",
    "planet = 'Earth'\n",
    "age = 4.2e9\n",
    "print(age)\n",
    "print((x + 24) ** 2)"
   ]
  },
  {
   "cell_type": "raw",
   "metadata": {},
   "source": [
    "##### Exercise 3: Add a new cell and add statements to print your name and your school's name."
   ]
  },
  {
   "cell_type": "markdown",
   "metadata": {},
   "source": [
    "### Conditional/Branching"
   ]
  },
  {
   "cell_type": "markdown",
   "metadata": {},
   "source": [
    "Sometimes the logic which we want to implement is based on a set of choices / decisions to be made when the program runs."
   ]
  },
  {
   "cell_type": "code",
   "execution_count": 84,
   "metadata": {},
   "outputs": [],
   "source": [
    "age = 3"
   ]
  },
  {
   "cell_type": "code",
   "execution_count": 85,
   "metadata": {},
   "outputs": [
    {
     "name": "stdout",
     "output_type": "stream",
     "text": [
      "Nursery\n"
     ]
    }
   ],
   "source": [
    "if age < 5:\n",
    "    print('Nursery')\n",
    "elif age > 5 and age <= 7:  #elif is a short form for 'else if'\n",
    "    print('Reception')\n",
    "elif age > 7 and age <= 13:\n",
    "    print('Junior School')\n",
    "elif age > 13 and age <= 18:\n",
    "    print('Senior School')\n",
    "elif age > 18 and age <= 24:\n",
    "    print('University')\n",
    "else:\n",
    "    print('Working')"
   ]
  },
  {
   "cell_type": "raw",
   "metadata": {},
   "source": [
    "Exercise 4: Change the age to different values and check the output from the above if-elif-else ladder."
   ]
  },
  {
   "cell_type": "markdown",
   "metadata": {},
   "source": [
    "### Iteration"
   ]
  },
  {
   "cell_type": "markdown",
   "metadata": {},
   "source": [
    "Sometimes the logic we wish to implement requires us to do a certain thing, multiple number of times. This is known as iteration; we iterate over a number of steps.\n",
    "Iteration is commonly called as 'looping'."
   ]
  },
  {
   "cell_type": "code",
   "execution_count": 86,
   "metadata": {},
   "outputs": [
    {
     "name": "stdout",
     "output_type": "stream",
     "text": [
      "0 times 0 is 0\n",
      "1 times 1 is 1\n",
      "2 times 2 is 4\n",
      "3 times 3 is 9\n",
      "4 times 4 is 16\n"
     ]
    }
   ],
   "source": [
    "for count in range(5):\n",
    "    print('{} times {} is {}'.format(count, count, count * count))"
   ]
  },
  {
   "cell_type": "raw",
   "metadata": {},
   "source": [
    "Exercise 5: Add a cell and add a 'loop' to print your name 5 times."
   ]
  },
  {
   "cell_type": "markdown",
   "metadata": {},
   "source": [
    "### Operations"
   ]
  },
  {
   "cell_type": "markdown",
   "metadata": {},
   "source": [
    "Python supports several mathematical and logical operations."
   ]
  },
  {
   "cell_type": "code",
   "execution_count": 87,
   "metadata": {},
   "outputs": [],
   "source": [
    "x = 10\n",
    "y = 20"
   ]
  },
  {
   "cell_type": "code",
   "execution_count": 88,
   "metadata": {},
   "outputs": [
    {
     "data": {
      "text/plain": [
       "(30, -10, 200, 0.5)"
      ]
     },
     "execution_count": 88,
     "metadata": {},
     "output_type": "execute_result"
    }
   ],
   "source": [
    "x + y, x - y, x * y, x / y"
   ]
  },
  {
   "cell_type": "code",
   "execution_count": 89,
   "metadata": {},
   "outputs": [
    {
     "data": {
      "text/plain": [
       "(False, True)"
      ]
     },
     "execution_count": 89,
     "metadata": {},
     "output_type": "execute_result"
    }
   ],
   "source": [
    "x == y, x != y"
   ]
  },
  {
   "cell_type": "code",
   "execution_count": 90,
   "metadata": {},
   "outputs": [
    {
     "data": {
      "text/plain": [
       "(False, True, False, True)"
      ]
     },
     "execution_count": 90,
     "metadata": {},
     "output_type": "execute_result"
    }
   ],
   "source": [
    "x > y, x < y, x >= y, x <= y"
   ]
  },
  {
   "cell_type": "raw",
   "metadata": {},
   "source": [
    "Note - The data (False, True) is called a tuple; it is like a list but with the added property that once created, it cannot be modified; in software lingo such data types are called immutable types - types which cannot be changed."
   ]
  },
  {
   "cell_type": "markdown",
   "metadata": {},
   "source": [
    "### Functions"
   ]
  },
  {
   "cell_type": "markdown",
   "metadata": {},
   "source": [
    "A function is a reusable piece of code. It allows us to write a piece of logic which can be called multiple times within our software."
   ]
  },
  {
   "cell_type": "markdown",
   "metadata": {},
   "source": [
    "A function usually takes some variables as input and then uses these inputs to generate an output."
   ]
  },
  {
   "cell_type": "code",
   "execution_count": 91,
   "metadata": {},
   "outputs": [],
   "source": [
    "def greeter(name, greeting):\n",
    "    print(greeting + ' ' + name)"
   ]
  },
  {
   "cell_type": "markdown",
   "metadata": {},
   "source": [
    "The 'def' keyword tells us that this is a function; the variables between ( ... ) are the inputs or arguments to the function."
   ]
  },
  {
   "cell_type": "code",
   "execution_count": 92,
   "metadata": {},
   "outputs": [
    {
     "name": "stdout",
     "output_type": "stream",
     "text": [
      "Hello Ariana Grande\n"
     ]
    }
   ],
   "source": [
    "greeter(f_pop_artists[0], 'Hello')"
   ]
  },
  {
   "cell_type": "code",
   "execution_count": 93,
   "metadata": {},
   "outputs": [
    {
     "name": "stdout",
     "output_type": "stream",
     "text": [
      "Hi! Ed Sheeran\n"
     ]
    }
   ],
   "source": [
    "greeter(m_pop_artists[0], 'Hi!')"
   ]
  },
  {
   "cell_type": "raw",
   "metadata": {},
   "source": [
    "Exercise 6: Write a function to say 'Hi' to each of the artists in a list of artists.\n",
    "    \n",
    "Hint:\n",
    "    Use Iteration."
   ]
  },
  {
   "cell_type": "raw",
   "metadata": {},
   "source": [
    "def pop_greeter(What goes here?):\n",
    "    What goes here?"
   ]
  },
  {
   "cell_type": "markdown",
   "metadata": {},
   "source": [
    "### Modules"
   ]
  },
  {
   "cell_type": "markdown",
   "metadata": {},
   "source": [
    "Python modules are a collection of useful data types and functions which have been developed by software engineers and made available for general use."
   ]
  },
  {
   "cell_type": "markdown",
   "metadata": {},
   "source": [
    "Python is a widely supported language and several developers have made their code available for others to use."
   ]
  },
  {
   "cell_type": "markdown",
   "metadata": {},
   "source": [
    "pandas (Wes Mckinney, AQR Capital) is a handy module for storage and manipulation of tabular and time-series datasets. [https://pandas.pydata.org/]"
   ]
  },
  {
   "cell_type": "markdown",
   "metadata": {},
   "source": [
    "seaborn is a popular module for data visualization (we shall explore seaborn in session 2) [https://seaborn.pydata.org/]"
   ]
  },
  {
   "cell_type": "markdown",
   "metadata": {},
   "source": [
    "There are several other popular modules like scikit-learn (machine learning), numpy (fast data processing), scipy (scientific Python), matplotlib (visualization) and so on."
   ]
  },
  {
   "cell_type": "markdown",
   "metadata": {},
   "source": [
    "##### Use the 'import' statement to utilise the services of a Python module"
   ]
  },
  {
   "cell_type": "code",
   "execution_count": 94,
   "metadata": {},
   "outputs": [],
   "source": [
    "import numpy as np"
   ]
  },
  {
   "cell_type": "code",
   "execution_count": 95,
   "metadata": {},
   "outputs": [],
   "source": [
    "dice_throws = []\n",
    "for count in range(25):\n",
    "    dice_throws.append(np.random.choice(6))"
   ]
  },
  {
   "cell_type": "code",
   "execution_count": 96,
   "metadata": {},
   "outputs": [
    {
     "data": {
      "text/plain": [
       "[2, 1, 3, 4, 0, 0, 2, 3, 5, 0, 5, 5, 0, 4, 5, 4, 0, 3, 0, 1, 2, 0, 5, 0, 4]"
      ]
     },
     "execution_count": 96,
     "metadata": {},
     "output_type": "execute_result"
    }
   ],
   "source": [
    "dice_throws"
   ]
  },
  {
   "cell_type": "markdown",
   "metadata": {},
   "source": [
    "Python modules make it easy to develop new software using modules as a building block."
   ]
  },
  {
   "cell_type": "markdown",
   "metadata": {},
   "source": [
    "### DataFrames"
   ]
  },
  {
   "cell_type": "markdown",
   "metadata": {},
   "source": [
    "Sometimes we have data available in a tabular or column-oriented structure, where each row in the table contains information on one topic/concept. \n",
    "\n",
    "DataFrames are a good way to analyze and process such tabular information. We will be using DataFrames in Session 2, so here is a short introduction."
   ]
  },
  {
   "cell_type": "markdown",
   "metadata": {},
   "source": [
    "Ref : https://www.kaggle.com/nadintamer/top-spotify-tracks-of-2018"
   ]
  },
  {
   "cell_type": "code",
   "execution_count": 97,
   "metadata": {},
   "outputs": [],
   "source": [
    "import pandas as pd #Check section 'Modules' above"
   ]
  },
  {
   "cell_type": "code",
   "execution_count": 98,
   "metadata": {},
   "outputs": [],
   "source": [
    "top_tracks = pd.read_csv('top_tracks_2018.csv')"
   ]
  },
  {
   "cell_type": "code",
   "execution_count": 99,
   "metadata": {},
   "outputs": [
    {
     "data": {
      "text/html": [
       "<div>\n",
       "<style scoped>\n",
       "    .dataframe tbody tr th:only-of-type {\n",
       "        vertical-align: middle;\n",
       "    }\n",
       "\n",
       "    .dataframe tbody tr th {\n",
       "        vertical-align: top;\n",
       "    }\n",
       "\n",
       "    .dataframe thead th {\n",
       "        text-align: right;\n",
       "    }\n",
       "</style>\n",
       "<table border=\"1\" class=\"dataframe\">\n",
       "  <thead>\n",
       "    <tr style=\"text-align: right;\">\n",
       "      <th></th>\n",
       "      <th>name</th>\n",
       "      <th>artists</th>\n",
       "      <th>danceability</th>\n",
       "      <th>energy</th>\n",
       "      <th>key</th>\n",
       "      <th>loudness</th>\n",
       "      <th>mode</th>\n",
       "      <th>speechiness</th>\n",
       "      <th>acousticness</th>\n",
       "      <th>instrumentalness</th>\n",
       "      <th>liveness</th>\n",
       "      <th>valence</th>\n",
       "      <th>tempo</th>\n",
       "      <th>duration_ms</th>\n",
       "      <th>time_signature</th>\n",
       "    </tr>\n",
       "  </thead>\n",
       "  <tbody>\n",
       "    <tr>\n",
       "      <th>0</th>\n",
       "      <td>God's Plan</td>\n",
       "      <td>Drake</td>\n",
       "      <td>0.754</td>\n",
       "      <td>0.449</td>\n",
       "      <td>7</td>\n",
       "      <td>-9.211</td>\n",
       "      <td>1</td>\n",
       "      <td>0.1090</td>\n",
       "      <td>0.0332</td>\n",
       "      <td>0.000083</td>\n",
       "      <td>0.552</td>\n",
       "      <td>0.357</td>\n",
       "      <td>77.169</td>\n",
       "      <td>198973</td>\n",
       "      <td>4</td>\n",
       "    </tr>\n",
       "    <tr>\n",
       "      <th>1</th>\n",
       "      <td>SAD!</td>\n",
       "      <td>XXXTENTACION</td>\n",
       "      <td>0.740</td>\n",
       "      <td>0.613</td>\n",
       "      <td>8</td>\n",
       "      <td>-4.880</td>\n",
       "      <td>1</td>\n",
       "      <td>0.1450</td>\n",
       "      <td>0.2580</td>\n",
       "      <td>0.003720</td>\n",
       "      <td>0.123</td>\n",
       "      <td>0.473</td>\n",
       "      <td>75.023</td>\n",
       "      <td>166606</td>\n",
       "      <td>4</td>\n",
       "    </tr>\n",
       "    <tr>\n",
       "      <th>2</th>\n",
       "      <td>rockstar (feat. 21 Savage)</td>\n",
       "      <td>Post Malone</td>\n",
       "      <td>0.587</td>\n",
       "      <td>0.535</td>\n",
       "      <td>5</td>\n",
       "      <td>-6.090</td>\n",
       "      <td>0</td>\n",
       "      <td>0.0898</td>\n",
       "      <td>0.1170</td>\n",
       "      <td>0.000066</td>\n",
       "      <td>0.131</td>\n",
       "      <td>0.140</td>\n",
       "      <td>159.847</td>\n",
       "      <td>218147</td>\n",
       "      <td>4</td>\n",
       "    </tr>\n",
       "    <tr>\n",
       "      <th>3</th>\n",
       "      <td>Psycho (feat. Ty Dolla $ign)</td>\n",
       "      <td>Post Malone</td>\n",
       "      <td>0.739</td>\n",
       "      <td>0.559</td>\n",
       "      <td>8</td>\n",
       "      <td>-8.011</td>\n",
       "      <td>1</td>\n",
       "      <td>0.1170</td>\n",
       "      <td>0.5800</td>\n",
       "      <td>0.000000</td>\n",
       "      <td>0.112</td>\n",
       "      <td>0.439</td>\n",
       "      <td>140.124</td>\n",
       "      <td>221440</td>\n",
       "      <td>4</td>\n",
       "    </tr>\n",
       "    <tr>\n",
       "      <th>4</th>\n",
       "      <td>In My Feelings</td>\n",
       "      <td>Drake</td>\n",
       "      <td>0.835</td>\n",
       "      <td>0.626</td>\n",
       "      <td>1</td>\n",
       "      <td>-5.833</td>\n",
       "      <td>1</td>\n",
       "      <td>0.1250</td>\n",
       "      <td>0.0589</td>\n",
       "      <td>0.000060</td>\n",
       "      <td>0.396</td>\n",
       "      <td>0.350</td>\n",
       "      <td>91.030</td>\n",
       "      <td>217925</td>\n",
       "      <td>4</td>\n",
       "    </tr>\n",
       "  </tbody>\n",
       "</table>\n",
       "</div>"
      ],
      "text/plain": [
       "                           name       artists  danceability  energy  key  \\\n",
       "0                    God's Plan         Drake         0.754   0.449    7   \n",
       "1                          SAD!  XXXTENTACION         0.740   0.613    8   \n",
       "2    rockstar (feat. 21 Savage)   Post Malone         0.587   0.535    5   \n",
       "3  Psycho (feat. Ty Dolla $ign)   Post Malone         0.739   0.559    8   \n",
       "4                In My Feelings         Drake         0.835   0.626    1   \n",
       "\n",
       "   loudness  mode  speechiness  acousticness  instrumentalness  liveness  \\\n",
       "0    -9.211     1       0.1090        0.0332          0.000083     0.552   \n",
       "1    -4.880     1       0.1450        0.2580          0.003720     0.123   \n",
       "2    -6.090     0       0.0898        0.1170          0.000066     0.131   \n",
       "3    -8.011     1       0.1170        0.5800          0.000000     0.112   \n",
       "4    -5.833     1       0.1250        0.0589          0.000060     0.396   \n",
       "\n",
       "   valence    tempo  duration_ms  time_signature  \n",
       "0    0.357   77.169       198973               4  \n",
       "1    0.473   75.023       166606               4  \n",
       "2    0.140  159.847       218147               4  \n",
       "3    0.439  140.124       221440               4  \n",
       "4    0.350   91.030       217925               4  "
      ]
     },
     "execution_count": 99,
     "metadata": {},
     "output_type": "execute_result"
    }
   ],
   "source": [
    "top_tracks.head()"
   ]
  },
  {
   "cell_type": "code",
   "execution_count": 100,
   "metadata": {},
   "outputs": [
    {
     "data": {
      "text/plain": [
       "Index(['name', 'artists', 'danceability', 'energy', 'key', 'loudness', 'mode',\n",
       "       'speechiness', 'acousticness', 'instrumentalness', 'liveness',\n",
       "       'valence', 'tempo', 'duration_ms', 'time_signature'],\n",
       "      dtype='object')"
      ]
     },
     "execution_count": 100,
     "metadata": {},
     "output_type": "execute_result"
    }
   ],
   "source": [
    "top_tracks.columns #You can read about the meaning of each column @ https://www.kaggle.com/nadintamer/top-spotify-tracks-of-2018"
   ]
  },
  {
   "cell_type": "code",
   "execution_count": 101,
   "metadata": {},
   "outputs": [
    {
     "data": {
      "text/plain": [
       "XXXTENTACION    6\n",
       "Post Malone     6\n",
       "Drake           4\n",
       "Marshmello      3\n",
       "Ed Sheeran      3\n",
       "Name: artists, dtype: int64"
      ]
     },
     "execution_count": 101,
     "metadata": {},
     "output_type": "execute_result"
    }
   ],
   "source": [
    "top_tracks.artists.value_counts().head() #Counts the number of times each artist occurs in the dataset; list top 5 occurences"
   ]
  },
  {
   "cell_type": "code",
   "execution_count": 102,
   "metadata": {},
   "outputs": [
    {
     "data": {
      "text/html": [
       "<div>\n",
       "<style scoped>\n",
       "    .dataframe tbody tr th:only-of-type {\n",
       "        vertical-align: middle;\n",
       "    }\n",
       "\n",
       "    .dataframe tbody tr th {\n",
       "        vertical-align: top;\n",
       "    }\n",
       "\n",
       "    .dataframe thead th {\n",
       "        text-align: right;\n",
       "    }\n",
       "</style>\n",
       "<table border=\"1\" class=\"dataframe\">\n",
       "  <thead>\n",
       "    <tr style=\"text-align: right;\">\n",
       "      <th></th>\n",
       "      <th>name</th>\n",
       "      <th>artists</th>\n",
       "      <th>danceability</th>\n",
       "      <th>energy</th>\n",
       "      <th>key</th>\n",
       "      <th>loudness</th>\n",
       "      <th>mode</th>\n",
       "      <th>speechiness</th>\n",
       "      <th>acousticness</th>\n",
       "      <th>instrumentalness</th>\n",
       "      <th>liveness</th>\n",
       "      <th>valence</th>\n",
       "      <th>tempo</th>\n",
       "      <th>duration_ms</th>\n",
       "      <th>time_signature</th>\n",
       "    </tr>\n",
       "  </thead>\n",
       "  <tbody>\n",
       "    <tr>\n",
       "      <th>25</th>\n",
       "      <td>Shape of You</td>\n",
       "      <td>Ed Sheeran</td>\n",
       "      <td>0.825</td>\n",
       "      <td>0.652</td>\n",
       "      <td>1</td>\n",
       "      <td>-3.183</td>\n",
       "      <td>0</td>\n",
       "      <td>0.0802</td>\n",
       "      <td>0.581</td>\n",
       "      <td>0.0</td>\n",
       "      <td>0.0931</td>\n",
       "      <td>0.931</td>\n",
       "      <td>95.977</td>\n",
       "      <td>233713</td>\n",
       "      <td>4</td>\n",
       "    </tr>\n",
       "    <tr>\n",
       "      <th>29</th>\n",
       "      <td>Perfect</td>\n",
       "      <td>Ed Sheeran</td>\n",
       "      <td>0.599</td>\n",
       "      <td>0.448</td>\n",
       "      <td>8</td>\n",
       "      <td>-6.312</td>\n",
       "      <td>1</td>\n",
       "      <td>0.0232</td>\n",
       "      <td>0.163</td>\n",
       "      <td>0.0</td>\n",
       "      <td>0.1060</td>\n",
       "      <td>0.168</td>\n",
       "      <td>95.050</td>\n",
       "      <td>263400</td>\n",
       "      <td>3</td>\n",
       "    </tr>\n",
       "    <tr>\n",
       "      <th>84</th>\n",
       "      <td>Perfect Duet (Ed Sheeran &amp; Beyonc?)</td>\n",
       "      <td>Ed Sheeran</td>\n",
       "      <td>0.587</td>\n",
       "      <td>0.299</td>\n",
       "      <td>8</td>\n",
       "      <td>-7.365</td>\n",
       "      <td>1</td>\n",
       "      <td>0.0263</td>\n",
       "      <td>0.779</td>\n",
       "      <td>0.0</td>\n",
       "      <td>0.1230</td>\n",
       "      <td>0.356</td>\n",
       "      <td>94.992</td>\n",
       "      <td>259550</td>\n",
       "      <td>3</td>\n",
       "    </tr>\n",
       "  </tbody>\n",
       "</table>\n",
       "</div>"
      ],
      "text/plain": [
       "                                   name     artists  danceability  energy  \\\n",
       "25                         Shape of You  Ed Sheeran         0.825   0.652   \n",
       "29                              Perfect  Ed Sheeran         0.599   0.448   \n",
       "84  Perfect Duet (Ed Sheeran & Beyonc?)  Ed Sheeran         0.587   0.299   \n",
       "\n",
       "    key  loudness  mode  speechiness  acousticness  instrumentalness  \\\n",
       "25    1    -3.183     0       0.0802         0.581               0.0   \n",
       "29    8    -6.312     1       0.0232         0.163               0.0   \n",
       "84    8    -7.365     1       0.0263         0.779               0.0   \n",
       "\n",
       "    liveness  valence   tempo  duration_ms  time_signature  \n",
       "25    0.0931    0.931  95.977       233713               4  \n",
       "29    0.1060    0.168  95.050       263400               3  \n",
       "84    0.1230    0.356  94.992       259550               3  "
      ]
     },
     "execution_count": 102,
     "metadata": {},
     "output_type": "execute_result"
    }
   ],
   "source": [
    "top_tracks[top_tracks.artists == 'Ed Sheeran'] #Finds the tracks by Ed Sheeran"
   ]
  },
  {
   "cell_type": "code",
   "execution_count": 103,
   "metadata": {},
   "outputs": [
    {
     "data": {
      "text/html": [
       "<div>\n",
       "<style scoped>\n",
       "    .dataframe tbody tr th:only-of-type {\n",
       "        vertical-align: middle;\n",
       "    }\n",
       "\n",
       "    .dataframe tbody tr th {\n",
       "        vertical-align: top;\n",
       "    }\n",
       "\n",
       "    .dataframe thead th {\n",
       "        text-align: right;\n",
       "    }\n",
       "</style>\n",
       "<table border=\"1\" class=\"dataframe\">\n",
       "  <thead>\n",
       "    <tr style=\"text-align: right;\">\n",
       "      <th></th>\n",
       "      <th>name</th>\n",
       "      <th>artists</th>\n",
       "      <th>danceability</th>\n",
       "      <th>energy</th>\n",
       "      <th>key</th>\n",
       "      <th>loudness</th>\n",
       "      <th>mode</th>\n",
       "      <th>speechiness</th>\n",
       "      <th>acousticness</th>\n",
       "      <th>instrumentalness</th>\n",
       "      <th>liveness</th>\n",
       "      <th>valence</th>\n",
       "      <th>tempo</th>\n",
       "      <th>duration_ms</th>\n",
       "      <th>time_signature</th>\n",
       "    </tr>\n",
       "  </thead>\n",
       "  <tbody>\n",
       "    <tr>\n",
       "      <th>29</th>\n",
       "      <td>Perfect</td>\n",
       "      <td>Ed Sheeran</td>\n",
       "      <td>0.599</td>\n",
       "      <td>0.448</td>\n",
       "      <td>8</td>\n",
       "      <td>-6.312</td>\n",
       "      <td>1</td>\n",
       "      <td>0.0232</td>\n",
       "      <td>0.1630</td>\n",
       "      <td>0.0</td>\n",
       "      <td>0.1060</td>\n",
       "      <td>0.168</td>\n",
       "      <td>95.050</td>\n",
       "      <td>263400</td>\n",
       "      <td>3</td>\n",
       "    </tr>\n",
       "    <tr>\n",
       "      <th>49</th>\n",
       "      <td>Call Out My Name</td>\n",
       "      <td>The Weeknd</td>\n",
       "      <td>0.489</td>\n",
       "      <td>0.598</td>\n",
       "      <td>1</td>\n",
       "      <td>-4.929</td>\n",
       "      <td>1</td>\n",
       "      <td>0.0360</td>\n",
       "      <td>0.2180</td>\n",
       "      <td>0.0</td>\n",
       "      <td>0.3500</td>\n",
       "      <td>0.172</td>\n",
       "      <td>134.045</td>\n",
       "      <td>228373</td>\n",
       "      <td>3</td>\n",
       "    </tr>\n",
       "    <tr>\n",
       "      <th>84</th>\n",
       "      <td>Perfect Duet (Ed Sheeran &amp; Beyonc?)</td>\n",
       "      <td>Ed Sheeran</td>\n",
       "      <td>0.587</td>\n",
       "      <td>0.299</td>\n",
       "      <td>8</td>\n",
       "      <td>-7.365</td>\n",
       "      <td>1</td>\n",
       "      <td>0.0263</td>\n",
       "      <td>0.7790</td>\n",
       "      <td>0.0</td>\n",
       "      <td>0.1230</td>\n",
       "      <td>0.356</td>\n",
       "      <td>94.992</td>\n",
       "      <td>259550</td>\n",
       "      <td>3</td>\n",
       "    </tr>\n",
       "    <tr>\n",
       "      <th>97</th>\n",
       "      <td>No Brainer</td>\n",
       "      <td>DJ Khaled</td>\n",
       "      <td>0.552</td>\n",
       "      <td>0.760</td>\n",
       "      <td>0</td>\n",
       "      <td>-4.706</td>\n",
       "      <td>1</td>\n",
       "      <td>0.3420</td>\n",
       "      <td>0.0733</td>\n",
       "      <td>0.0</td>\n",
       "      <td>0.0865</td>\n",
       "      <td>0.639</td>\n",
       "      <td>135.702</td>\n",
       "      <td>260000</td>\n",
       "      <td>5</td>\n",
       "    </tr>\n",
       "  </tbody>\n",
       "</table>\n",
       "</div>"
      ],
      "text/plain": [
       "                                   name     artists  danceability  energy  \\\n",
       "29                              Perfect  Ed Sheeran         0.599   0.448   \n",
       "49                     Call Out My Name  The Weeknd         0.489   0.598   \n",
       "84  Perfect Duet (Ed Sheeran & Beyonc?)  Ed Sheeran         0.587   0.299   \n",
       "97                           No Brainer   DJ Khaled         0.552   0.760   \n",
       "\n",
       "    key  loudness  mode  speechiness  acousticness  instrumentalness  \\\n",
       "29    8    -6.312     1       0.0232        0.1630               0.0   \n",
       "49    1    -4.929     1       0.0360        0.2180               0.0   \n",
       "84    8    -7.365     1       0.0263        0.7790               0.0   \n",
       "97    0    -4.706     1       0.3420        0.0733               0.0   \n",
       "\n",
       "    liveness  valence    tempo  duration_ms  time_signature  \n",
       "29    0.1060    0.168   95.050       263400               3  \n",
       "49    0.3500    0.172  134.045       228373               3  \n",
       "84    0.1230    0.356   94.992       259550               3  \n",
       "97    0.0865    0.639  135.702       260000               5  "
      ]
     },
     "execution_count": 103,
     "metadata": {},
     "output_type": "execute_result"
    }
   ],
   "source": [
    "top_tracks[top_tracks.time_signature != 4] #Finds the tracks with a time signature different than 4"
   ]
  },
  {
   "cell_type": "raw",
   "metadata": {},
   "source": [
    "Exercise 7 : Add a cell and write a statement to find which songs are longer than 300 seconds\n",
    "Hint: Use the appropriate column name and the '>' operator to compare song duration."
   ]
  },
  {
   "cell_type": "code",
   "execution_count": 104,
   "metadata": {},
   "outputs": [
    {
     "data": {
      "text/html": [
       "<div>\n",
       "<style scoped>\n",
       "    .dataframe tbody tr th:only-of-type {\n",
       "        vertical-align: middle;\n",
       "    }\n",
       "\n",
       "    .dataframe tbody tr th {\n",
       "        vertical-align: top;\n",
       "    }\n",
       "\n",
       "    .dataframe thead th {\n",
       "        text-align: right;\n",
       "    }\n",
       "</style>\n",
       "<table border=\"1\" class=\"dataframe\">\n",
       "  <thead>\n",
       "    <tr style=\"text-align: right;\">\n",
       "      <th></th>\n",
       "      <th>name</th>\n",
       "      <th>artists</th>\n",
       "      <th>danceability</th>\n",
       "      <th>energy</th>\n",
       "      <th>key</th>\n",
       "      <th>loudness</th>\n",
       "      <th>mode</th>\n",
       "      <th>speechiness</th>\n",
       "      <th>acousticness</th>\n",
       "      <th>instrumentalness</th>\n",
       "      <th>liveness</th>\n",
       "      <th>valence</th>\n",
       "      <th>tempo</th>\n",
       "      <th>duration_ms</th>\n",
       "      <th>time_signature</th>\n",
       "    </tr>\n",
       "  </thead>\n",
       "  <tbody>\n",
       "    <tr>\n",
       "      <th>21</th>\n",
       "      <td>Te Bot? - Remix</td>\n",
       "      <td>Nio Garcia</td>\n",
       "      <td>0.903</td>\n",
       "      <td>0.675</td>\n",
       "      <td>11</td>\n",
       "      <td>-3.445</td>\n",
       "      <td>0</td>\n",
       "      <td>0.214</td>\n",
       "      <td>0.54200</td>\n",
       "      <td>0.000013</td>\n",
       "      <td>0.0595</td>\n",
       "      <td>0.442</td>\n",
       "      <td>96.507</td>\n",
       "      <td>417920</td>\n",
       "      <td>4</td>\n",
       "    </tr>\n",
       "    <tr>\n",
       "      <th>42</th>\n",
       "      <td>SICKO MODE</td>\n",
       "      <td>Travis Scott</td>\n",
       "      <td>0.834</td>\n",
       "      <td>0.730</td>\n",
       "      <td>8</td>\n",
       "      <td>-3.714</td>\n",
       "      <td>1</td>\n",
       "      <td>0.222</td>\n",
       "      <td>0.00513</td>\n",
       "      <td>0.000000</td>\n",
       "      <td>0.1240</td>\n",
       "      <td>0.446</td>\n",
       "      <td>155.008</td>\n",
       "      <td>312820</td>\n",
       "      <td>4</td>\n",
       "    </tr>\n",
       "  </tbody>\n",
       "</table>\n",
       "</div>"
      ],
      "text/plain": [
       "               name       artists  danceability  energy  key  loudness  mode  \\\n",
       "21  Te Bot? - Remix    Nio Garcia         0.903   0.675   11    -3.445     0   \n",
       "42       SICKO MODE  Travis Scott         0.834   0.730    8    -3.714     1   \n",
       "\n",
       "    speechiness  acousticness  instrumentalness  liveness  valence    tempo  \\\n",
       "21        0.214       0.54200          0.000013    0.0595    0.442   96.507   \n",
       "42        0.222       0.00513          0.000000    0.1240    0.446  155.008   \n",
       "\n",
       "    duration_ms  time_signature  \n",
       "21       417920               4  \n",
       "42       312820               4  "
      ]
     },
     "execution_count": 104,
     "metadata": {},
     "output_type": "execute_result"
    }
   ],
   "source": [
    "top_tracks[top_tracks.duration_ms > 300000]"
   ]
  }
 ],
 "metadata": {
  "kernelspec": {
   "display_name": "Python 3",
   "language": "python",
   "name": "python3"
  },
  "language_info": {
   "codemirror_mode": {
    "name": "ipython",
    "version": 3
   },
   "file_extension": ".py",
   "mimetype": "text/x-python",
   "name": "python",
   "nbconvert_exporter": "python",
   "pygments_lexer": "ipython3",
   "version": "3.7.3"
  }
 },
 "nbformat": 4,
 "nbformat_minor": 4
}
