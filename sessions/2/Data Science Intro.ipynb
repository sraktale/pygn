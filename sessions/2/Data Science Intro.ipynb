{
 "cells": [
  {
   "cell_type": "markdown",
   "metadata": {},
   "source": [
    "# The World Factbook Dataset"
   ]
  },
  {
   "cell_type": "markdown",
   "metadata": {},
   "source": [
    "In this notebook we will be using Python to explore and discover useful information from The World Factbook dataset which contains information on the history, economy, energy, geography, communications and other indicators for 227 countries of the world.\n",
    "\n",
    "The World Factbook is one of the US Government's most accessed publications and it is continuosly being updated.\n",
    "Source: https://www.cia.gov/library/publications/the-world-factbook/\n",
    "\n"
   ]
  },
  {
   "cell_type": "markdown",
   "metadata": {},
   "source": [
    "## 1. Importing the libraries. These will be our tools:"
   ]
  },
  {
   "cell_type": "code",
   "execution_count": 210,
   "metadata": {},
   "outputs": [],
   "source": [
    "# data processing\n",
    "import pandas as pd    \n",
    "\n",
    "# data visualization\n",
    "import seaborn as sns  \n",
    "import matplotlib.pyplot as plt"
   ]
  },
  {
   "cell_type": "markdown",
   "metadata": {},
   "source": [
    "## 2. Loading and inspecting the dataset"
   ]
  },
  {
   "cell_type": "code",
   "execution_count": 211,
   "metadata": {},
   "outputs": [],
   "source": [
    "data = pd.read_csv(\"countries_of_the_world.csv\")  # loads a CSV document(Comma Separated Values) into a DataFrame tool\n"
   ]
  },
  {
   "cell_type": "code",
   "execution_count": 212,
   "metadata": {},
   "outputs": [
    {
     "data": {
      "text/plain": [
       "Index(['country', 'region', 'population', 'area', 'density', 'coastline',\n",
       "       'migration', 'infant_mortality', 'gdp', 'literacy', 'phones', 'arable',\n",
       "       'crops', 'climate', 'birthrate', 'deathrate', 'agriculture', 'industry',\n",
       "       'service'],\n",
       "      dtype='object')"
      ]
     },
     "execution_count": 212,
     "metadata": {},
     "output_type": "execute_result"
    }
   ],
   "source": [
    "data.columns #look at the columns of the dataset\n"
   ]
  },
  {
   "cell_type": "markdown",
   "metadata": {},
   "source": [
    "### Columns explained"
   ]
  },
  {
   "cell_type": "markdown",
   "metadata": {},
   "source": [
    "population       : estimates from the US Bureau of the Census based on statistics from population censuses\n",
    "\n",
    "area(sq. mi.)    : sum of all land and water areas delimited by international boundaries and/or coastlines\n",
    "\n",
    "density          : population per sq. mi.\n",
    "\n",
    "coastline        : total length of the boundary between the land area (including islands) and the sea (coast/area ratio)\n",
    "\n",
    "migration        : difference between the number of persons entering and leaving a country during the year per 1,000 persons\n",
    "\n",
    "infant_mortality : number of deaths per 1,000 live births of children under one year of age\n",
    "\n",
    "gdp (per capita) : the gross domestic product or value of all final goods and services produced within a nation in a given year. the GDP per capita is the GDP divided by population\n",
    "\n",
    "literacy(%)      : age 15 and over can read and write, expressed as a percentage\n",
    "\n",
    "phones(per 1000) : number of mobile phone users per 1,000 persons\n",
    "\n",
    "arable(%)        : arable land cultivated for crops like wheat, maize, and rice that are replanted after each harvest\n",
    "\n",
    "crops(%)         : land cultivated for crops like citrus, coffee, and rubber that are not replanted after each harvest, and includes land under flowering shrubs, fruit trees, nut trees, and vines\n",
    "\n",
    "climate          : description of typical weather regimes throughout the year, split into 4 categories of extremes:\n",
    "\n",
    "                   driest places on earth (average annual precipitation)        = 1\n",
    "                   \n",
    "                   wettest places on earth (average annual precipitation)       = 2\n",
    "                   \n",
    "                   coldest places on earth (lowest average monthly temperature) = 3\n",
    "                   \n",
    "                   hottest places on earth (highest average monthly temperature)= 4\n",
    "                   \n",
    "birthrate        : average annual number of births during a year per 1,000 persons in the population at midyear\n",
    "\n",
    "deathrate        : average annual number of deaths during a year per 1,000 population at midyear"
   ]
  },
  {
   "cell_type": "code",
   "execution_count": 213,
   "metadata": {},
   "outputs": [
    {
     "data": {
      "text/plain": [
       "(227, 19)"
      ]
     },
     "execution_count": 213,
     "metadata": {},
     "output_type": "execute_result"
    }
   ],
   "source": [
    "data.shape #number of rows and columns"
   ]
  },
  {
   "cell_type": "code",
   "execution_count": 214,
   "metadata": {},
   "outputs": [
    {
     "data": {
      "text/html": [
       "<div>\n",
       "<style scoped>\n",
       "    .dataframe tbody tr th:only-of-type {\n",
       "        vertical-align: middle;\n",
       "    }\n",
       "\n",
       "    .dataframe tbody tr th {\n",
       "        vertical-align: top;\n",
       "    }\n",
       "\n",
       "    .dataframe thead th {\n",
       "        text-align: right;\n",
       "    }\n",
       "</style>\n",
       "<table border=\"1\" class=\"dataframe\">\n",
       "  <thead>\n",
       "    <tr style=\"text-align: right;\">\n",
       "      <th></th>\n",
       "      <th>country</th>\n",
       "      <th>region</th>\n",
       "      <th>population</th>\n",
       "      <th>area</th>\n",
       "      <th>density</th>\n",
       "      <th>coastline</th>\n",
       "      <th>migration</th>\n",
       "      <th>infant_mortality</th>\n",
       "      <th>gdp</th>\n",
       "      <th>literacy</th>\n",
       "      <th>phones</th>\n",
       "      <th>arable</th>\n",
       "      <th>crops</th>\n",
       "      <th>climate</th>\n",
       "      <th>birthrate</th>\n",
       "      <th>deathrate</th>\n",
       "      <th>agriculture</th>\n",
       "      <th>industry</th>\n",
       "      <th>service</th>\n",
       "    </tr>\n",
       "  </thead>\n",
       "  <tbody>\n",
       "    <tr>\n",
       "      <th>0</th>\n",
       "      <td>Afghanistan</td>\n",
       "      <td>ASIA (EX. NEAR EAST)</td>\n",
       "      <td>31056997</td>\n",
       "      <td>647500</td>\n",
       "      <td>48.0</td>\n",
       "      <td>0.00</td>\n",
       "      <td>23.06</td>\n",
       "      <td>163.07</td>\n",
       "      <td>700.0</td>\n",
       "      <td>36.0</td>\n",
       "      <td>3.2</td>\n",
       "      <td>12.13</td>\n",
       "      <td>0.22</td>\n",
       "      <td>1.0</td>\n",
       "      <td>46.60</td>\n",
       "      <td>20.34</td>\n",
       "      <td>0.380</td>\n",
       "      <td>0.240</td>\n",
       "      <td>0.380</td>\n",
       "    </tr>\n",
       "    <tr>\n",
       "      <th>1</th>\n",
       "      <td>Albania</td>\n",
       "      <td>EASTERN EUROPE</td>\n",
       "      <td>3581655</td>\n",
       "      <td>28748</td>\n",
       "      <td>124.6</td>\n",
       "      <td>1.26</td>\n",
       "      <td>-4.93</td>\n",
       "      <td>21.52</td>\n",
       "      <td>4500.0</td>\n",
       "      <td>86.5</td>\n",
       "      <td>71.2</td>\n",
       "      <td>21.09</td>\n",
       "      <td>4.42</td>\n",
       "      <td>3.0</td>\n",
       "      <td>15.11</td>\n",
       "      <td>5.22</td>\n",
       "      <td>0.232</td>\n",
       "      <td>0.188</td>\n",
       "      <td>0.579</td>\n",
       "    </tr>\n",
       "    <tr>\n",
       "      <th>2</th>\n",
       "      <td>Algeria</td>\n",
       "      <td>NORTHERN AFRICA</td>\n",
       "      <td>32930091</td>\n",
       "      <td>2381740</td>\n",
       "      <td>13.8</td>\n",
       "      <td>0.04</td>\n",
       "      <td>-0.39</td>\n",
       "      <td>31.00</td>\n",
       "      <td>6000.0</td>\n",
       "      <td>70.0</td>\n",
       "      <td>78.1</td>\n",
       "      <td>3.22</td>\n",
       "      <td>0.25</td>\n",
       "      <td>1.0</td>\n",
       "      <td>17.14</td>\n",
       "      <td>4.61</td>\n",
       "      <td>0.101</td>\n",
       "      <td>0.600</td>\n",
       "      <td>0.298</td>\n",
       "    </tr>\n",
       "    <tr>\n",
       "      <th>3</th>\n",
       "      <td>American Samoa</td>\n",
       "      <td>OCEANIA</td>\n",
       "      <td>57794</td>\n",
       "      <td>199</td>\n",
       "      <td>290.4</td>\n",
       "      <td>58.29</td>\n",
       "      <td>-20.71</td>\n",
       "      <td>9.27</td>\n",
       "      <td>8000.0</td>\n",
       "      <td>97.0</td>\n",
       "      <td>259.5</td>\n",
       "      <td>10.00</td>\n",
       "      <td>15.00</td>\n",
       "      <td>2.0</td>\n",
       "      <td>22.46</td>\n",
       "      <td>3.27</td>\n",
       "      <td>NaN</td>\n",
       "      <td>NaN</td>\n",
       "      <td>NaN</td>\n",
       "    </tr>\n",
       "    <tr>\n",
       "      <th>4</th>\n",
       "      <td>Andorra</td>\n",
       "      <td>WESTERN EUROPE</td>\n",
       "      <td>71201</td>\n",
       "      <td>468</td>\n",
       "      <td>152.1</td>\n",
       "      <td>0.00</td>\n",
       "      <td>6.60</td>\n",
       "      <td>4.05</td>\n",
       "      <td>19000.0</td>\n",
       "      <td>100.0</td>\n",
       "      <td>497.2</td>\n",
       "      <td>2.22</td>\n",
       "      <td>0.00</td>\n",
       "      <td>3.0</td>\n",
       "      <td>8.71</td>\n",
       "      <td>6.25</td>\n",
       "      <td>NaN</td>\n",
       "      <td>NaN</td>\n",
       "      <td>NaN</td>\n",
       "    </tr>\n",
       "  </tbody>\n",
       "</table>\n",
       "</div>"
      ],
      "text/plain": [
       "          country                region  population     area  density  \\\n",
       "0     Afghanistan  ASIA (EX. NEAR EAST)    31056997   647500     48.0   \n",
       "1         Albania        EASTERN EUROPE     3581655    28748    124.6   \n",
       "2         Algeria       NORTHERN AFRICA    32930091  2381740     13.8   \n",
       "3  American Samoa               OCEANIA       57794      199    290.4   \n",
       "4         Andorra        WESTERN EUROPE       71201      468    152.1   \n",
       "\n",
       "   coastline  migration  infant_mortality      gdp  literacy  phones  arable  \\\n",
       "0       0.00      23.06            163.07    700.0      36.0     3.2   12.13   \n",
       "1       1.26      -4.93             21.52   4500.0      86.5    71.2   21.09   \n",
       "2       0.04      -0.39             31.00   6000.0      70.0    78.1    3.22   \n",
       "3      58.29     -20.71              9.27   8000.0      97.0   259.5   10.00   \n",
       "4       0.00       6.60              4.05  19000.0     100.0   497.2    2.22   \n",
       "\n",
       "   crops  climate  birthrate  deathrate  agriculture  industry  service  \n",
       "0   0.22      1.0      46.60      20.34        0.380     0.240    0.380  \n",
       "1   4.42      3.0      15.11       5.22        0.232     0.188    0.579  \n",
       "2   0.25      1.0      17.14       4.61        0.101     0.600    0.298  \n",
       "3  15.00      2.0      22.46       3.27          NaN       NaN      NaN  \n",
       "4   0.00      3.0       8.71       6.25          NaN       NaN      NaN  "
      ]
     },
     "execution_count": 214,
     "metadata": {},
     "output_type": "execute_result"
    }
   ],
   "source": [
    "data.head() #display the first 5 rows from the dataset. \n",
    "\n",
    "#you can also show more, e.g. uncomment below lines and run them separately, what do you see? \n",
    "#data.head(0)\n",
    "#data.head(1)\n",
    "#data.head(10)\n"
   ]
  },
  {
   "cell_type": "code",
   "execution_count": 215,
   "metadata": {},
   "outputs": [
    {
     "data": {
      "text/html": [
       "<div>\n",
       "<style scoped>\n",
       "    .dataframe tbody tr th:only-of-type {\n",
       "        vertical-align: middle;\n",
       "    }\n",
       "\n",
       "    .dataframe tbody tr th {\n",
       "        vertical-align: top;\n",
       "    }\n",
       "\n",
       "    .dataframe thead th {\n",
       "        text-align: right;\n",
       "    }\n",
       "</style>\n",
       "<table border=\"1\" class=\"dataframe\">\n",
       "  <thead>\n",
       "    <tr style=\"text-align: right;\">\n",
       "      <th></th>\n",
       "      <th>country</th>\n",
       "      <th>region</th>\n",
       "      <th>population</th>\n",
       "      <th>area</th>\n",
       "      <th>density</th>\n",
       "      <th>coastline</th>\n",
       "      <th>migration</th>\n",
       "      <th>infant_mortality</th>\n",
       "      <th>gdp</th>\n",
       "      <th>literacy</th>\n",
       "      <th>phones</th>\n",
       "      <th>arable</th>\n",
       "      <th>crops</th>\n",
       "      <th>climate</th>\n",
       "      <th>birthrate</th>\n",
       "      <th>deathrate</th>\n",
       "      <th>agriculture</th>\n",
       "      <th>industry</th>\n",
       "      <th>service</th>\n",
       "    </tr>\n",
       "  </thead>\n",
       "  <tbody>\n",
       "    <tr>\n",
       "      <th>222</th>\n",
       "      <td>West Bank</td>\n",
       "      <td>NEAR EAST</td>\n",
       "      <td>2460492</td>\n",
       "      <td>5860</td>\n",
       "      <td>419.9</td>\n",
       "      <td>0.00</td>\n",
       "      <td>2.98</td>\n",
       "      <td>19.62</td>\n",
       "      <td>800.0</td>\n",
       "      <td>NaN</td>\n",
       "      <td>145.2</td>\n",
       "      <td>16.90</td>\n",
       "      <td>18.97</td>\n",
       "      <td>3.0</td>\n",
       "      <td>31.67</td>\n",
       "      <td>3.92</td>\n",
       "      <td>0.090</td>\n",
       "      <td>0.280</td>\n",
       "      <td>0.630</td>\n",
       "    </tr>\n",
       "    <tr>\n",
       "      <th>223</th>\n",
       "      <td>Western Sahara</td>\n",
       "      <td>NORTHERN AFRICA</td>\n",
       "      <td>273008</td>\n",
       "      <td>266000</td>\n",
       "      <td>1.0</td>\n",
       "      <td>0.42</td>\n",
       "      <td>NaN</td>\n",
       "      <td>NaN</td>\n",
       "      <td>NaN</td>\n",
       "      <td>NaN</td>\n",
       "      <td>NaN</td>\n",
       "      <td>0.02</td>\n",
       "      <td>0.00</td>\n",
       "      <td>1.0</td>\n",
       "      <td>NaN</td>\n",
       "      <td>NaN</td>\n",
       "      <td>NaN</td>\n",
       "      <td>NaN</td>\n",
       "      <td>0.400</td>\n",
       "    </tr>\n",
       "    <tr>\n",
       "      <th>224</th>\n",
       "      <td>Yemen</td>\n",
       "      <td>NEAR EAST</td>\n",
       "      <td>21456188</td>\n",
       "      <td>527970</td>\n",
       "      <td>40.6</td>\n",
       "      <td>0.36</td>\n",
       "      <td>0.00</td>\n",
       "      <td>61.50</td>\n",
       "      <td>800.0</td>\n",
       "      <td>50.2</td>\n",
       "      <td>37.2</td>\n",
       "      <td>2.78</td>\n",
       "      <td>0.24</td>\n",
       "      <td>1.0</td>\n",
       "      <td>42.89</td>\n",
       "      <td>8.30</td>\n",
       "      <td>0.135</td>\n",
       "      <td>0.472</td>\n",
       "      <td>0.393</td>\n",
       "    </tr>\n",
       "    <tr>\n",
       "      <th>225</th>\n",
       "      <td>Zambia</td>\n",
       "      <td>SUB-SAHARAN AFRICA</td>\n",
       "      <td>11502010</td>\n",
       "      <td>752614</td>\n",
       "      <td>15.3</td>\n",
       "      <td>0.00</td>\n",
       "      <td>0.00</td>\n",
       "      <td>88.29</td>\n",
       "      <td>800.0</td>\n",
       "      <td>80.6</td>\n",
       "      <td>8.2</td>\n",
       "      <td>7.08</td>\n",
       "      <td>0.03</td>\n",
       "      <td>2.0</td>\n",
       "      <td>41.00</td>\n",
       "      <td>19.93</td>\n",
       "      <td>0.220</td>\n",
       "      <td>0.290</td>\n",
       "      <td>0.489</td>\n",
       "    </tr>\n",
       "    <tr>\n",
       "      <th>226</th>\n",
       "      <td>Zimbabwe</td>\n",
       "      <td>SUB-SAHARAN AFRICA</td>\n",
       "      <td>12236805</td>\n",
       "      <td>390580</td>\n",
       "      <td>31.3</td>\n",
       "      <td>0.00</td>\n",
       "      <td>0.00</td>\n",
       "      <td>67.69</td>\n",
       "      <td>1900.0</td>\n",
       "      <td>90.7</td>\n",
       "      <td>26.8</td>\n",
       "      <td>8.32</td>\n",
       "      <td>0.34</td>\n",
       "      <td>2.0</td>\n",
       "      <td>28.01</td>\n",
       "      <td>21.84</td>\n",
       "      <td>0.179</td>\n",
       "      <td>0.243</td>\n",
       "      <td>0.579</td>\n",
       "    </tr>\n",
       "  </tbody>\n",
       "</table>\n",
       "</div>"
      ],
      "text/plain": [
       "            country              region  population    area  density  \\\n",
       "222       West Bank           NEAR EAST     2460492    5860    419.9   \n",
       "223  Western Sahara     NORTHERN AFRICA      273008  266000      1.0   \n",
       "224           Yemen           NEAR EAST    21456188  527970     40.6   \n",
       "225          Zambia  SUB-SAHARAN AFRICA    11502010  752614     15.3   \n",
       "226        Zimbabwe  SUB-SAHARAN AFRICA    12236805  390580     31.3   \n",
       "\n",
       "     coastline  migration  infant_mortality     gdp  literacy  phones  arable  \\\n",
       "222       0.00       2.98             19.62   800.0       NaN   145.2   16.90   \n",
       "223       0.42        NaN               NaN     NaN       NaN     NaN    0.02   \n",
       "224       0.36       0.00             61.50   800.0      50.2    37.2    2.78   \n",
       "225       0.00       0.00             88.29   800.0      80.6     8.2    7.08   \n",
       "226       0.00       0.00             67.69  1900.0      90.7    26.8    8.32   \n",
       "\n",
       "     crops  climate  birthrate  deathrate  agriculture  industry  service  \n",
       "222  18.97      3.0      31.67       3.92        0.090     0.280    0.630  \n",
       "223   0.00      1.0        NaN        NaN          NaN       NaN    0.400  \n",
       "224   0.24      1.0      42.89       8.30        0.135     0.472    0.393  \n",
       "225   0.03      2.0      41.00      19.93        0.220     0.290    0.489  \n",
       "226   0.34      2.0      28.01      21.84        0.179     0.243    0.579  "
      ]
     },
     "execution_count": 215,
     "metadata": {},
     "output_type": "execute_result"
    }
   ],
   "source": [
    "data.tail()  #show last 5 rows"
   ]
  },
  {
   "cell_type": "markdown",
   "metadata": {},
   "source": [
    "### Did you notice any \"NaN\" values in the table? \n",
    "\n",
    "NaN (or Not a Number) are missing values in the table. These can cause issues when we want to do mathematical operations on the data. Lets see how many of these we have in our data and then lets remove them."
   ]
  },
  {
   "cell_type": "code",
   "execution_count": 216,
   "metadata": {},
   "outputs": [
    {
     "data": {
      "text/plain": [
       "country              0\n",
       "region               0\n",
       "population           0\n",
       "area                 0\n",
       "density              0\n",
       "coastline            0\n",
       "migration            3\n",
       "infant_mortality     3\n",
       "gdp                  1\n",
       "literacy            18\n",
       "phones               4\n",
       "arable               2\n",
       "crops                2\n",
       "climate             22\n",
       "birthrate            3\n",
       "deathrate            4\n",
       "agriculture         15\n",
       "industry            16\n",
       "service             15\n",
       "dtype: int64"
      ]
     },
     "execution_count": 216,
     "metadata": {},
     "output_type": "execute_result"
    }
   ],
   "source": [
    "data.isnull().sum()  # counts how many NULL (missing) values there are for each of the columns"
   ]
  },
  {
   "cell_type": "markdown",
   "metadata": {},
   "source": [
    "To fill in the missing numbers, one technique we can use is to fill in with the mean of the column"
   ]
  },
  {
   "cell_type": "code",
   "execution_count": 217,
   "metadata": {},
   "outputs": [],
   "source": [
    "data.fillna(data.mean(), inplace=True) #using the \"fillna\" method and filling in with the column mean"
   ]
  },
  {
   "cell_type": "markdown",
   "metadata": {},
   "source": [
    "### Indexing"
   ]
  },
  {
   "cell_type": "code",
   "execution_count": 218,
   "metadata": {},
   "outputs": [
    {
     "data": {
      "text/plain": [
       "0     647500\n",
       "1      28748\n",
       "2    2381740\n",
       "3        199\n",
       "4        468\n",
       "Name: area, dtype: int64"
      ]
     },
     "execution_count": 218,
     "metadata": {},
     "output_type": "execute_result"
    }
   ],
   "source": [
    "#what if we wanted to see the values from just one column in the table?\n",
    "\n",
    "data[\"area\"].head()  # data[\"area\"] - selects just the area column\n",
    "\n",
    "#try it out with other combinations of columns and show more than the first 5 rows! "
   ]
  },
  {
   "cell_type": "code",
   "execution_count": 219,
   "metadata": {},
   "outputs": [
    {
     "data": {
      "text/html": [
       "<div>\n",
       "<style scoped>\n",
       "    .dataframe tbody tr th:only-of-type {\n",
       "        vertical-align: middle;\n",
       "    }\n",
       "\n",
       "    .dataframe tbody tr th {\n",
       "        vertical-align: top;\n",
       "    }\n",
       "\n",
       "    .dataframe thead th {\n",
       "        text-align: right;\n",
       "    }\n",
       "</style>\n",
       "<table border=\"1\" class=\"dataframe\">\n",
       "  <thead>\n",
       "    <tr style=\"text-align: right;\">\n",
       "      <th></th>\n",
       "      <th>area</th>\n",
       "      <th>gdp</th>\n",
       "    </tr>\n",
       "  </thead>\n",
       "  <tbody>\n",
       "    <tr>\n",
       "      <th>0</th>\n",
       "      <td>647500</td>\n",
       "      <td>700.0</td>\n",
       "    </tr>\n",
       "    <tr>\n",
       "      <th>1</th>\n",
       "      <td>28748</td>\n",
       "      <td>4500.0</td>\n",
       "    </tr>\n",
       "    <tr>\n",
       "      <th>2</th>\n",
       "      <td>2381740</td>\n",
       "      <td>6000.0</td>\n",
       "    </tr>\n",
       "    <tr>\n",
       "      <th>3</th>\n",
       "      <td>199</td>\n",
       "      <td>8000.0</td>\n",
       "    </tr>\n",
       "    <tr>\n",
       "      <th>4</th>\n",
       "      <td>468</td>\n",
       "      <td>19000.0</td>\n",
       "    </tr>\n",
       "    <tr>\n",
       "      <th>5</th>\n",
       "      <td>1246700</td>\n",
       "      <td>1900.0</td>\n",
       "    </tr>\n",
       "    <tr>\n",
       "      <th>6</th>\n",
       "      <td>102</td>\n",
       "      <td>8600.0</td>\n",
       "    </tr>\n",
       "    <tr>\n",
       "      <th>7</th>\n",
       "      <td>443</td>\n",
       "      <td>11000.0</td>\n",
       "    </tr>\n",
       "    <tr>\n",
       "      <th>8</th>\n",
       "      <td>2766890</td>\n",
       "      <td>11200.0</td>\n",
       "    </tr>\n",
       "    <tr>\n",
       "      <th>9</th>\n",
       "      <td>29800</td>\n",
       "      <td>3500.0</td>\n",
       "    </tr>\n",
       "  </tbody>\n",
       "</table>\n",
       "</div>"
      ],
      "text/plain": [
       "      area      gdp\n",
       "0   647500    700.0\n",
       "1    28748   4500.0\n",
       "2  2381740   6000.0\n",
       "3      199   8000.0\n",
       "4      468  19000.0\n",
       "5  1246700   1900.0\n",
       "6      102   8600.0\n",
       "7      443  11000.0\n",
       "8  2766890  11200.0\n",
       "9    29800   3500.0"
      ]
     },
     "execution_count": 219,
     "metadata": {},
     "output_type": "execute_result"
    }
   ],
   "source": [
    "selected_rows = data.head(10)          # select first 10 rows\n",
    "selected_rows.loc[:, [\"area\",\"gdp\"]] \n",
    "\n",
    "#\"loc\" is a method call that takes 2 arguments: \n",
    "#first one, the \":\" identifies the rows we want to select. e.g. \":\" = all rows, \"1:5\" = row 1 to 5\n",
    "#second one, \"[\"area\",\"gdp\"]\" identifies the columns we want to select, in this case we select the \"area\" and \"gdp\" columns\n",
    "\n",
    "#other examples you can try below. you can change the parameters and see what happens!\n",
    "\n",
    "#selected_rows.loc[:5,:]\n",
    "#selected_rows.loc[::-1,[\"area\"]]"
   ]
  },
  {
   "cell_type": "code",
   "execution_count": 220,
   "metadata": {},
   "outputs": [
    {
     "data": {
      "text/html": [
       "<div>\n",
       "<style scoped>\n",
       "    .dataframe tbody tr th:only-of-type {\n",
       "        vertical-align: middle;\n",
       "    }\n",
       "\n",
       "    .dataframe tbody tr th {\n",
       "        vertical-align: top;\n",
       "    }\n",
       "\n",
       "    .dataframe thead th {\n",
       "        text-align: right;\n",
       "    }\n",
       "</style>\n",
       "<table border=\"1\" class=\"dataframe\">\n",
       "  <thead>\n",
       "    <tr style=\"text-align: right;\">\n",
       "      <th></th>\n",
       "      <th>country</th>\n",
       "      <th>region</th>\n",
       "      <th>population</th>\n",
       "      <th>area</th>\n",
       "      <th>density</th>\n",
       "      <th>coastline</th>\n",
       "      <th>migration</th>\n",
       "      <th>infant_mortality</th>\n",
       "      <th>gdp</th>\n",
       "      <th>literacy</th>\n",
       "      <th>phones</th>\n",
       "      <th>arable</th>\n",
       "      <th>crops</th>\n",
       "      <th>climate</th>\n",
       "      <th>birthrate</th>\n",
       "      <th>deathrate</th>\n",
       "      <th>agriculture</th>\n",
       "      <th>industry</th>\n",
       "      <th>service</th>\n",
       "    </tr>\n",
       "  </thead>\n",
       "  <tbody>\n",
       "    <tr>\n",
       "      <th>4</th>\n",
       "      <td>Andorra</td>\n",
       "      <td>WESTERN EUROPE</td>\n",
       "      <td>71201</td>\n",
       "      <td>468</td>\n",
       "      <td>152.1</td>\n",
       "      <td>0.00</td>\n",
       "      <td>6.60</td>\n",
       "      <td>4.05</td>\n",
       "      <td>19000.0</td>\n",
       "      <td>100.000000</td>\n",
       "      <td>497.2</td>\n",
       "      <td>2.22</td>\n",
       "      <td>0.00</td>\n",
       "      <td>3.000000</td>\n",
       "      <td>8.71</td>\n",
       "      <td>6.25</td>\n",
       "      <td>0.150844</td>\n",
       "      <td>0.282711</td>\n",
       "      <td>0.565283</td>\n",
       "    </tr>\n",
       "    <tr>\n",
       "      <th>12</th>\n",
       "      <td>Austria</td>\n",
       "      <td>WESTERN EUROPE</td>\n",
       "      <td>8192880</td>\n",
       "      <td>83870</td>\n",
       "      <td>97.7</td>\n",
       "      <td>0.00</td>\n",
       "      <td>2.00</td>\n",
       "      <td>4.66</td>\n",
       "      <td>30000.0</td>\n",
       "      <td>98.000000</td>\n",
       "      <td>452.2</td>\n",
       "      <td>16.91</td>\n",
       "      <td>0.86</td>\n",
       "      <td>3.000000</td>\n",
       "      <td>8.74</td>\n",
       "      <td>9.76</td>\n",
       "      <td>0.018000</td>\n",
       "      <td>0.304000</td>\n",
       "      <td>0.678000</td>\n",
       "    </tr>\n",
       "    <tr>\n",
       "      <th>19</th>\n",
       "      <td>Belgium</td>\n",
       "      <td>WESTERN EUROPE</td>\n",
       "      <td>10379067</td>\n",
       "      <td>30528</td>\n",
       "      <td>340.0</td>\n",
       "      <td>0.22</td>\n",
       "      <td>1.23</td>\n",
       "      <td>4.68</td>\n",
       "      <td>29100.0</td>\n",
       "      <td>98.000000</td>\n",
       "      <td>462.6</td>\n",
       "      <td>23.28</td>\n",
       "      <td>0.40</td>\n",
       "      <td>3.000000</td>\n",
       "      <td>10.38</td>\n",
       "      <td>10.27</td>\n",
       "      <td>0.010000</td>\n",
       "      <td>0.240000</td>\n",
       "      <td>0.749000</td>\n",
       "    </tr>\n",
       "    <tr>\n",
       "      <th>54</th>\n",
       "      <td>Denmark</td>\n",
       "      <td>WESTERN EUROPE</td>\n",
       "      <td>5450661</td>\n",
       "      <td>43094</td>\n",
       "      <td>126.5</td>\n",
       "      <td>16.97</td>\n",
       "      <td>2.48</td>\n",
       "      <td>4.56</td>\n",
       "      <td>31100.0</td>\n",
       "      <td>100.000000</td>\n",
       "      <td>614.6</td>\n",
       "      <td>54.02</td>\n",
       "      <td>0.19</td>\n",
       "      <td>3.000000</td>\n",
       "      <td>11.13</td>\n",
       "      <td>10.36</td>\n",
       "      <td>0.018000</td>\n",
       "      <td>0.246000</td>\n",
       "      <td>0.735000</td>\n",
       "    </tr>\n",
       "    <tr>\n",
       "      <th>66</th>\n",
       "      <td>Faroe Islands</td>\n",
       "      <td>WESTERN EUROPE</td>\n",
       "      <td>47246</td>\n",
       "      <td>1399</td>\n",
       "      <td>33.8</td>\n",
       "      <td>79.84</td>\n",
       "      <td>1.41</td>\n",
       "      <td>6.24</td>\n",
       "      <td>22000.0</td>\n",
       "      <td>82.838278</td>\n",
       "      <td>503.8</td>\n",
       "      <td>2.14</td>\n",
       "      <td>0.00</td>\n",
       "      <td>2.139024</td>\n",
       "      <td>14.05</td>\n",
       "      <td>8.70</td>\n",
       "      <td>0.270000</td>\n",
       "      <td>0.110000</td>\n",
       "      <td>0.620000</td>\n",
       "    </tr>\n",
       "  </tbody>\n",
       "</table>\n",
       "</div>"
      ],
      "text/plain": [
       "          country          region  population   area  density  coastline  \\\n",
       "4         Andorra  WESTERN EUROPE       71201    468    152.1       0.00   \n",
       "12        Austria  WESTERN EUROPE     8192880  83870     97.7       0.00   \n",
       "19        Belgium  WESTERN EUROPE    10379067  30528    340.0       0.22   \n",
       "54        Denmark  WESTERN EUROPE     5450661  43094    126.5      16.97   \n",
       "66  Faroe Islands  WESTERN EUROPE       47246   1399     33.8      79.84   \n",
       "\n",
       "    migration  infant_mortality      gdp    literacy  phones  arable  crops  \\\n",
       "4        6.60              4.05  19000.0  100.000000   497.2    2.22   0.00   \n",
       "12       2.00              4.66  30000.0   98.000000   452.2   16.91   0.86   \n",
       "19       1.23              4.68  29100.0   98.000000   462.6   23.28   0.40   \n",
       "54       2.48              4.56  31100.0  100.000000   614.6   54.02   0.19   \n",
       "66       1.41              6.24  22000.0   82.838278   503.8    2.14   0.00   \n",
       "\n",
       "     climate  birthrate  deathrate  agriculture  industry   service  \n",
       "4   3.000000       8.71       6.25     0.150844  0.282711  0.565283  \n",
       "12  3.000000       8.74       9.76     0.018000  0.304000  0.678000  \n",
       "19  3.000000      10.38      10.27     0.010000  0.240000  0.749000  \n",
       "54  3.000000      11.13      10.36     0.018000  0.246000  0.735000  \n",
       "66  2.139024      14.05       8.70     0.270000  0.110000  0.620000  "
      ]
     },
     "execution_count": 220,
     "metadata": {},
     "output_type": "execute_result"
    }
   ],
   "source": [
    "#How can we see all countries in Western Europe?\n",
    "\n",
    "data[data[\"region\"] == \"WESTERN EUROPE\"].head() #selects all rows where the region is equal to \"WESTERN EUROPE\""
   ]
  },
  {
   "cell_type": "markdown",
   "metadata": {},
   "source": [
    "### Sorting"
   ]
  },
  {
   "cell_type": "code",
   "execution_count": 230,
   "metadata": {
    "scrolled": false
   },
   "outputs": [
    {
     "data": {
      "text/html": [
       "<div>\n",
       "<style scoped>\n",
       "    .dataframe tbody tr th:only-of-type {\n",
       "        vertical-align: middle;\n",
       "    }\n",
       "\n",
       "    .dataframe tbody tr th {\n",
       "        vertical-align: top;\n",
       "    }\n",
       "\n",
       "    .dataframe thead th {\n",
       "        text-align: right;\n",
       "    }\n",
       "</style>\n",
       "<table border=\"1\" class=\"dataframe\">\n",
       "  <thead>\n",
       "    <tr style=\"text-align: right;\">\n",
       "      <th></th>\n",
       "      <th>country</th>\n",
       "      <th>region</th>\n",
       "      <th>population</th>\n",
       "      <th>area</th>\n",
       "      <th>density</th>\n",
       "      <th>coastline</th>\n",
       "      <th>migration</th>\n",
       "      <th>infant_mortality</th>\n",
       "      <th>gdp</th>\n",
       "      <th>literacy</th>\n",
       "      <th>phones</th>\n",
       "      <th>arable</th>\n",
       "      <th>crops</th>\n",
       "      <th>climate</th>\n",
       "      <th>birthrate</th>\n",
       "      <th>deathrate</th>\n",
       "      <th>agriculture</th>\n",
       "      <th>industry</th>\n",
       "      <th>service</th>\n",
       "    </tr>\n",
       "  </thead>\n",
       "  <tbody>\n",
       "    <tr>\n",
       "      <th>138</th>\n",
       "      <td>Monaco</td>\n",
       "      <td>WESTERN EUROPE</td>\n",
       "      <td>32543</td>\n",
       "      <td>2</td>\n",
       "      <td>16271.5</td>\n",
       "      <td>205.00</td>\n",
       "      <td>7.75</td>\n",
       "      <td>5.43</td>\n",
       "      <td>27000.0</td>\n",
       "      <td>99.000000</td>\n",
       "      <td>1035.6</td>\n",
       "      <td>0.0</td>\n",
       "      <td>0.0</td>\n",
       "      <td>2.139024</td>\n",
       "      <td>9.19</td>\n",
       "      <td>12.91</td>\n",
       "      <td>0.170000</td>\n",
       "      <td>0.282711</td>\n",
       "      <td>0.565283</td>\n",
       "    </tr>\n",
       "    <tr>\n",
       "      <th>78</th>\n",
       "      <td>Gibraltar</td>\n",
       "      <td>WESTERN EUROPE</td>\n",
       "      <td>27928</td>\n",
       "      <td>7</td>\n",
       "      <td>3989.7</td>\n",
       "      <td>171.43</td>\n",
       "      <td>0.00</td>\n",
       "      <td>5.13</td>\n",
       "      <td>17500.0</td>\n",
       "      <td>82.838278</td>\n",
       "      <td>877.7</td>\n",
       "      <td>0.0</td>\n",
       "      <td>0.0</td>\n",
       "      <td>2.139024</td>\n",
       "      <td>10.74</td>\n",
       "      <td>9.31</td>\n",
       "      <td>0.150844</td>\n",
       "      <td>0.282711</td>\n",
       "      <td>0.565283</td>\n",
       "    </tr>\n",
       "    <tr>\n",
       "      <th>144</th>\n",
       "      <td>Nauru</td>\n",
       "      <td>OCEANIA</td>\n",
       "      <td>13287</td>\n",
       "      <td>21</td>\n",
       "      <td>632.7</td>\n",
       "      <td>142.86</td>\n",
       "      <td>0.00</td>\n",
       "      <td>9.95</td>\n",
       "      <td>5000.0</td>\n",
       "      <td>82.838278</td>\n",
       "      <td>143.0</td>\n",
       "      <td>0.0</td>\n",
       "      <td>0.0</td>\n",
       "      <td>2.000000</td>\n",
       "      <td>24.76</td>\n",
       "      <td>6.70</td>\n",
       "      <td>0.150844</td>\n",
       "      <td>0.282711</td>\n",
       "      <td>0.565283</td>\n",
       "    </tr>\n",
       "    <tr>\n",
       "      <th>209</th>\n",
       "      <td>Tuvalu</td>\n",
       "      <td>OCEANIA</td>\n",
       "      <td>11810</td>\n",
       "      <td>26</td>\n",
       "      <td>454.2</td>\n",
       "      <td>92.31</td>\n",
       "      <td>0.00</td>\n",
       "      <td>20.03</td>\n",
       "      <td>1100.0</td>\n",
       "      <td>82.838278</td>\n",
       "      <td>59.3</td>\n",
       "      <td>0.0</td>\n",
       "      <td>0.0</td>\n",
       "      <td>2.000000</td>\n",
       "      <td>22.18</td>\n",
       "      <td>7.11</td>\n",
       "      <td>0.166000</td>\n",
       "      <td>0.272000</td>\n",
       "      <td>0.562000</td>\n",
       "    </tr>\n",
       "    <tr>\n",
       "      <th>122</th>\n",
       "      <td>Macau</td>\n",
       "      <td>ASIA (EX. NEAR EAST)</td>\n",
       "      <td>453125</td>\n",
       "      <td>28</td>\n",
       "      <td>16183.0</td>\n",
       "      <td>146.43</td>\n",
       "      <td>4.86</td>\n",
       "      <td>4.39</td>\n",
       "      <td>19400.0</td>\n",
       "      <td>94.500000</td>\n",
       "      <td>384.9</td>\n",
       "      <td>0.0</td>\n",
       "      <td>0.0</td>\n",
       "      <td>2.000000</td>\n",
       "      <td>8.48</td>\n",
       "      <td>4.47</td>\n",
       "      <td>0.001000</td>\n",
       "      <td>0.072000</td>\n",
       "      <td>0.927000</td>\n",
       "    </tr>\n",
       "  </tbody>\n",
       "</table>\n",
       "</div>"
      ],
      "text/plain": [
       "       country                region  population  area  density  coastline  \\\n",
       "138     Monaco        WESTERN EUROPE       32543     2  16271.5     205.00   \n",
       "78   Gibraltar        WESTERN EUROPE       27928     7   3989.7     171.43   \n",
       "144      Nauru               OCEANIA       13287    21    632.7     142.86   \n",
       "209     Tuvalu               OCEANIA       11810    26    454.2      92.31   \n",
       "122      Macau  ASIA (EX. NEAR EAST)      453125    28  16183.0     146.43   \n",
       "\n",
       "     migration  infant_mortality      gdp   literacy  phones  arable  crops  \\\n",
       "138       7.75              5.43  27000.0  99.000000  1035.6     0.0    0.0   \n",
       "78        0.00              5.13  17500.0  82.838278   877.7     0.0    0.0   \n",
       "144       0.00              9.95   5000.0  82.838278   143.0     0.0    0.0   \n",
       "209       0.00             20.03   1100.0  82.838278    59.3     0.0    0.0   \n",
       "122       4.86              4.39  19400.0  94.500000   384.9     0.0    0.0   \n",
       "\n",
       "      climate  birthrate  deathrate  agriculture  industry   service  \n",
       "138  2.139024       9.19      12.91     0.170000  0.282711  0.565283  \n",
       "78   2.139024      10.74       9.31     0.150844  0.282711  0.565283  \n",
       "144  2.000000      24.76       6.70     0.150844  0.282711  0.565283  \n",
       "209  2.000000      22.18       7.11     0.166000  0.272000  0.562000  \n",
       "122  2.000000       8.48       4.47     0.001000  0.072000  0.927000  "
      ]
     },
     "execution_count": 230,
     "metadata": {},
     "output_type": "execute_result"
    }
   ],
   "source": [
    "data.sort_values(by=\"area\", ascending=True).head() # here we are passing parameters by name\n",
    "\n",
    "#try sorting by diferent columns! "
   ]
  },
  {
   "cell_type": "markdown",
   "metadata": {},
   "source": [
    "### Grouping rows together by a specific column"
   ]
  },
  {
   "cell_type": "code",
   "execution_count": 222,
   "metadata": {},
   "outputs": [],
   "source": [
    "#How many coutries does each region have? \n",
    "\n",
    "countries_in_region = data.groupby(\"region\").size()"
   ]
  },
  {
   "cell_type": "code",
   "execution_count": 223,
   "metadata": {},
   "outputs": [],
   "source": [
    "#Using the sorting method learned above, can you try sorting the countries in region? \n",
    "\n",
    "#countries_in_region. ...write your code here"
   ]
  },
  {
   "cell_type": "markdown",
   "metadata": {},
   "source": [
    "## 3. Exploring and discovering information from the dataset"
   ]
  },
  {
   "cell_type": "markdown",
   "metadata": {},
   "source": [
    "### 3.1. What are the top 10 countries with highest GDP?"
   ]
  },
  {
   "cell_type": "code",
   "execution_count": 224,
   "metadata": {},
   "outputs": [],
   "source": [
    "#using what we just learned, we can combine \"sort_values\" with \"head\" to show top rows\n",
    "#uncomment the line below and fill in the missing dots to show what we want\n",
    "\n",
    "#data.sort_values(by=..., ascending=...).head(...)\n"
   ]
  },
  {
   "cell_type": "markdown",
   "metadata": {},
   "source": [
    "### 3.2. What are the top 10 most crowded countries?\n"
   ]
  },
  {
   "cell_type": "code",
   "execution_count": 225,
   "metadata": {},
   "outputs": [],
   "source": [
    "#write your answer here"
   ]
  },
  {
   "cell_type": "markdown",
   "metadata": {},
   "source": [
    "### 3.3. What are the driest countries in the world?\n"
   ]
  },
  {
   "cell_type": "code",
   "execution_count": 226,
   "metadata": {},
   "outputs": [],
   "source": [
    "#we have a column \"climate\" which contains 4 categories. the driest climate has category 1\n",
    "\n",
    "#driest_countries = ...write your answer here"
   ]
  },
  {
   "cell_type": "markdown",
   "metadata": {},
   "source": [
    "### 3.4. What is the driest country in the world that also has the largest area?"
   ]
  },
  {
   "cell_type": "code",
   "execution_count": 227,
   "metadata": {},
   "outputs": [],
   "source": [
    "#write your answer here"
   ]
  },
  {
   "cell_type": "markdown",
   "metadata": {},
   "source": [
    "## 4. Visualizing information from the dataset"
   ]
  },
  {
   "cell_type": "markdown",
   "metadata": {},
   "source": [
    "Vizualizing data in a graphical format enables us to get a better understanding of large amounts \n",
    "of information and try to identify trends/patterns that might be present in our dataset. It is a very powerful tool that enables\n",
    "scientists to grasp dificult concepts more easily. \n",
    "\n",
    "Some common types of data visualization:\n",
    "\n",
    "    bar and column charts\n",
    "    pie charts\n",
    "    distribution plot (see how values are distributed)"
   ]
  },
  {
   "cell_type": "markdown",
   "metadata": {},
   "source": [
    "### 4.1. What is the distribution of the infant mortality rates? "
   ]
  },
  {
   "cell_type": "code",
   "execution_count": 228,
   "metadata": {},
   "outputs": [],
   "source": [
    "#IMR (infant mortality rate) - the number of deaths per 1,000 live births of children under one year of age"
   ]
  },
  {
   "cell_type": "code",
   "execution_count": 229,
   "metadata": {},
   "outputs": [
    {
     "data": {
      "text/plain": [
       "<matplotlib.axes._subplots.AxesSubplot at 0x1d5a81d5400>"
      ]
     },
     "execution_count": 229,
     "metadata": {},
     "output_type": "execute_result"
    },
    {
     "data": {
      "image/png": "[encoded data removed]",
      "text/plain": [
       "<Figure size 432x288 with 1 Axes>"
      ]
     },
     "metadata": {
      "needs_background": "light"
     },
     "output_type": "display_data"
    }
   ],
   "source": [
    "sns.distplot(data[\"infant_mortality\"]) "
   ]
  },
  {
   "cell_type": "markdown",
   "metadata": {},
   "source": [
    "##### What do you think the above plot is showing us? "
   ]
  }
 ],
 "metadata": {
  "kernelspec": {
   "display_name": "Python 3",
   "language": "python",
   "name": "python3"
  },
  "language_info": {
   "codemirror_mode": {
    "name": "ipython",
    "version": 3
   },
   "file_extension": ".py",
   "mimetype": "text/x-python",
   "name": "python",
   "nbconvert_exporter": "python",
   "pygments_lexer": "ipython3",
   "version": "3.7.3"
  }
 },
 "nbformat": 4,
 "nbformat_minor": 2
}
