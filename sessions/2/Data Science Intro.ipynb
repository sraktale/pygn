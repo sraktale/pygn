{
 "cells": [
  {
   "cell_type": "markdown",
   "metadata": {},
   "source": [
    "# The World Factbook Dataset"
   ]
  },
  {
   "cell_type": "markdown",
   "metadata": {},
   "source": [
    "In this notebook we will be using Python to explore and discover useful information from The World Factbook dataset which contains information on the history, economy, energy, geography, communications and other indicators for 227 countries of the world.\n",
    "\n",
    "The World Factbook is one of the US Government's most accessed publications and it is continuosly being updated.\n",
    "Source: https://www.cia.gov/library/publications/the-world-factbook/\n",
    "\n"
   ]
  },
  {
   "cell_type": "markdown",
   "metadata": {},
   "source": [
    "## 1. Importing the libraries. These will be our tools:"
   ]
  },
  {
   "cell_type": "code",
   "execution_count": 123,
   "metadata": {},
   "outputs": [],
   "source": [
    "# data processing\n",
    "import pandas as pd    \n",
    "\n",
    "# data visualization\n",
    "import seaborn as sns  \n",
    "import matplotlib.pyplot as plt"
   ]
  },
  {
   "cell_type": "markdown",
   "metadata": {},
   "source": [
    "## 2. Loading and inspecting the dataset"
   ]
  },
  {
   "cell_type": "code",
   "execution_count": 124,
   "metadata": {},
   "outputs": [],
   "source": [
    "data = pd.read_csv(\"countries_of_the_world.csv\")  # loads a CSV document(Comma Separated Values) into a DataFrame tool\n"
   ]
  },
  {
   "cell_type": "code",
   "execution_count": 125,
   "metadata": {},
   "outputs": [
    {
     "data": {
      "text/plain": [
       "Index(['country', 'region', 'population', 'area', 'density', 'coastline',\n",
       "       'migration', 'infant_mortality', 'gdp', 'literacy', 'phones', 'arable',\n",
       "       'crops', 'climate', 'birthrate', 'deathrate', 'agriculture', 'industry',\n",
       "       'service'],\n",
       "      dtype='object')"
      ]
     },
     "execution_count": 125,
     "metadata": {},
     "output_type": "execute_result"
    }
   ],
   "source": [
    "data.columns #look at the columns of the dataset\n"
   ]
  },
  {
   "cell_type": "markdown",
   "metadata": {},
   "source": [
    "### Columns explained"
   ]
  },
  {
   "cell_type": "markdown",
   "metadata": {},
   "source": [
    "population       : estimates from the US Bureau of the Census based on statistics from population censuses\n",
    "\n",
    "area(sq. mi.)    : sum of all land and water areas delimited by international boundaries and/or coastlines\n",
    "\n",
    "density          : population per sq. mi.\n",
    "\n",
    "coastline        : total length of the boundary between the land area (including islands) and the sea (coast/area ratio)\n",
    "\n",
    "migration(net)   : difference between the number of persons entering and leaving a country during the year per 1,000 persons\n",
    "\n",
    "infant_mortality : number of deaths per 1,000 live births of children under one year of age\n",
    "\n",
    "gdp (per capita) : the gross domestic product or value of all final goods and services produced within a nation in a given year. the GDP per capita is the GDP divided by population\n",
    "\n",
    "literacy(%)      : age 15 and over can read and write, expressed as a percentage\n",
    "\n",
    "phones(per 1000) : number of mobile phone users per 1,000 persons\n",
    "\n",
    "arable(%)        : arable land cultivated for crops like wheat, maize, and rice that are replanted after each harvest\n",
    "\n",
    "crops(%)         : land cultivated for crops like citrus, coffee, and rubber that are not replanted after each harvest, and includes land under flowering shrubs, fruit trees, nut trees, and vines\n",
    "\n",
    "climate          : description of typical weather regimes throughout the year, split into 4 categories of extremes:\n",
    "\n",
    "                   driest places on earth (average annual precipitation)        = 1\n",
    "                   \n",
    "                   wettest places on earth (average annual precipitation)       = 2\n",
    "                   \n",
    "                   coldest places on earth (lowest average monthly temperature) = 3\n",
    "                   \n",
    "                   hottest places on earth (highest average monthly temperature)= 4\n",
    "                   \n",
    "birthrate        : average annual number of births during a year per 1,000 persons in the population at midyear\n",
    "\n",
    "deathrate        : average annual number of deaths during a year per 1,000 population at midyear\n",
    "\n",
    "agriculture, \n",
    "industry and \n",
    "service          : percentage contribution of agriculture, industry, and services to total GDP.\n",
    "\n",
    "                   Agriculture includes farming, fishing, and forestry. \n",
    "                   \n",
    "                   Industry includes mining, manufacturing, energy production, and construction. \n",
    "                   \n",
    "                   Services cover government activities, communications, transportation, finance, and all other private   \n",
    "                   economic activities that do not produce material goods."
   ]
  },
  {
   "cell_type": "code",
   "execution_count": 126,
   "metadata": {},
   "outputs": [
    {
     "data": {
      "text/plain": [
       "(227, 19)"
      ]
     },
     "execution_count": 126,
     "metadata": {},
     "output_type": "execute_result"
    }
   ],
   "source": [
    "data.shape #number of rows and columns"
   ]
  },
  {
   "cell_type": "code",
   "execution_count": 127,
   "metadata": {},
   "outputs": [
    {
     "data": {
      "text/html": [
       "<div>\n",
       "<style scoped>\n",
       "    .dataframe tbody tr th:only-of-type {\n",
       "        vertical-align: middle;\n",
       "    }\n",
       "\n",
       "    .dataframe tbody tr th {\n",
       "        vertical-align: top;\n",
       "    }\n",
       "\n",
       "    .dataframe thead th {\n",
       "        text-align: right;\n",
       "    }\n",
       "</style>\n",
       "<table border=\"1\" class=\"dataframe\">\n",
       "  <thead>\n",
       "    <tr style=\"text-align: right;\">\n",
       "      <th></th>\n",
       "      <th>country</th>\n",
       "      <th>region</th>\n",
       "      <th>population</th>\n",
       "      <th>area</th>\n",
       "      <th>density</th>\n",
       "      <th>coastline</th>\n",
       "      <th>migration</th>\n",
       "      <th>infant_mortality</th>\n",
       "      <th>gdp</th>\n",
       "      <th>literacy</th>\n",
       "      <th>phones</th>\n",
       "      <th>arable</th>\n",
       "      <th>crops</th>\n",
       "      <th>climate</th>\n",
       "      <th>birthrate</th>\n",
       "      <th>deathrate</th>\n",
       "      <th>agriculture</th>\n",
       "      <th>industry</th>\n",
       "      <th>service</th>\n",
       "    </tr>\n",
       "  </thead>\n",
       "  <tbody>\n",
       "    <tr>\n",
       "      <th>0</th>\n",
       "      <td>Afghanistan</td>\n",
       "      <td>ASIA (EX. NEAR EAST)</td>\n",
       "      <td>31056997</td>\n",
       "      <td>647500</td>\n",
       "      <td>48.0</td>\n",
       "      <td>0.00</td>\n",
       "      <td>23.06</td>\n",
       "      <td>163.07</td>\n",
       "      <td>700.0</td>\n",
       "      <td>36.0</td>\n",
       "      <td>3.2</td>\n",
       "      <td>12.13</td>\n",
       "      <td>0.22</td>\n",
       "      <td>1.0</td>\n",
       "      <td>46.60</td>\n",
       "      <td>20.34</td>\n",
       "      <td>0.380</td>\n",
       "      <td>0.240</td>\n",
       "      <td>0.380</td>\n",
       "    </tr>\n",
       "    <tr>\n",
       "      <th>1</th>\n",
       "      <td>Albania</td>\n",
       "      <td>EASTERN EUROPE</td>\n",
       "      <td>3581655</td>\n",
       "      <td>28748</td>\n",
       "      <td>124.6</td>\n",
       "      <td>1.26</td>\n",
       "      <td>-4.93</td>\n",
       "      <td>21.52</td>\n",
       "      <td>4500.0</td>\n",
       "      <td>86.5</td>\n",
       "      <td>71.2</td>\n",
       "      <td>21.09</td>\n",
       "      <td>4.42</td>\n",
       "      <td>3.0</td>\n",
       "      <td>15.11</td>\n",
       "      <td>5.22</td>\n",
       "      <td>0.232</td>\n",
       "      <td>0.188</td>\n",
       "      <td>0.579</td>\n",
       "    </tr>\n",
       "    <tr>\n",
       "      <th>2</th>\n",
       "      <td>Algeria</td>\n",
       "      <td>NORTHERN AFRICA</td>\n",
       "      <td>32930091</td>\n",
       "      <td>2381740</td>\n",
       "      <td>13.8</td>\n",
       "      <td>0.04</td>\n",
       "      <td>-0.39</td>\n",
       "      <td>31.00</td>\n",
       "      <td>6000.0</td>\n",
       "      <td>70.0</td>\n",
       "      <td>78.1</td>\n",
       "      <td>3.22</td>\n",
       "      <td>0.25</td>\n",
       "      <td>1.0</td>\n",
       "      <td>17.14</td>\n",
       "      <td>4.61</td>\n",
       "      <td>0.101</td>\n",
       "      <td>0.600</td>\n",
       "      <td>0.298</td>\n",
       "    </tr>\n",
       "    <tr>\n",
       "      <th>3</th>\n",
       "      <td>American Samoa</td>\n",
       "      <td>OCEANIA</td>\n",
       "      <td>57794</td>\n",
       "      <td>199</td>\n",
       "      <td>290.4</td>\n",
       "      <td>58.29</td>\n",
       "      <td>-20.71</td>\n",
       "      <td>9.27</td>\n",
       "      <td>8000.0</td>\n",
       "      <td>97.0</td>\n",
       "      <td>259.5</td>\n",
       "      <td>10.00</td>\n",
       "      <td>15.00</td>\n",
       "      <td>2.0</td>\n",
       "      <td>22.46</td>\n",
       "      <td>3.27</td>\n",
       "      <td>NaN</td>\n",
       "      <td>NaN</td>\n",
       "      <td>NaN</td>\n",
       "    </tr>\n",
       "    <tr>\n",
       "      <th>4</th>\n",
       "      <td>Andorra</td>\n",
       "      <td>WESTERN EUROPE</td>\n",
       "      <td>71201</td>\n",
       "      <td>468</td>\n",
       "      <td>152.1</td>\n",
       "      <td>0.00</td>\n",
       "      <td>6.60</td>\n",
       "      <td>4.05</td>\n",
       "      <td>19000.0</td>\n",
       "      <td>100.0</td>\n",
       "      <td>497.2</td>\n",
       "      <td>2.22</td>\n",
       "      <td>0.00</td>\n",
       "      <td>3.0</td>\n",
       "      <td>8.71</td>\n",
       "      <td>6.25</td>\n",
       "      <td>NaN</td>\n",
       "      <td>NaN</td>\n",
       "      <td>NaN</td>\n",
       "    </tr>\n",
       "  </tbody>\n",
       "</table>\n",
       "</div>"
      ],
      "text/plain": [
       "          country                region  population     area  density  \\\n",
       "0     Afghanistan  ASIA (EX. NEAR EAST)    31056997   647500     48.0   \n",
       "1         Albania        EASTERN EUROPE     3581655    28748    124.6   \n",
       "2         Algeria       NORTHERN AFRICA    32930091  2381740     13.8   \n",
       "3  American Samoa               OCEANIA       57794      199    290.4   \n",
       "4         Andorra        WESTERN EUROPE       71201      468    152.1   \n",
       "\n",
       "   coastline  migration  infant_mortality      gdp  literacy  phones  arable  \\\n",
       "0       0.00      23.06            163.07    700.0      36.0     3.2   12.13   \n",
       "1       1.26      -4.93             21.52   4500.0      86.5    71.2   21.09   \n",
       "2       0.04      -0.39             31.00   6000.0      70.0    78.1    3.22   \n",
       "3      58.29     -20.71              9.27   8000.0      97.0   259.5   10.00   \n",
       "4       0.00       6.60              4.05  19000.0     100.0   497.2    2.22   \n",
       "\n",
       "   crops  climate  birthrate  deathrate  agriculture  industry  service  \n",
       "0   0.22      1.0      46.60      20.34        0.380     0.240    0.380  \n",
       "1   4.42      3.0      15.11       5.22        0.232     0.188    0.579  \n",
       "2   0.25      1.0      17.14       4.61        0.101     0.600    0.298  \n",
       "3  15.00      2.0      22.46       3.27          NaN       NaN      NaN  \n",
       "4   0.00      3.0       8.71       6.25          NaN       NaN      NaN  "
      ]
     },
     "execution_count": 127,
     "metadata": {},
     "output_type": "execute_result"
    }
   ],
   "source": [
    "data.head() #display the first 5 rows from the dataset. "
   ]
  },
  {
   "cell_type": "markdown",
   "metadata": {},
   "source": [
    "#### You can also show more rows. Uncomment below lines and run them separately, what do you see? "
   ]
  },
  {
   "cell_type": "code",
   "execution_count": 128,
   "metadata": {},
   "outputs": [],
   "source": [
    "#data.head(0)\n",
    "#data.head(1)\n",
    "#data.head(10)"
   ]
  },
  {
   "cell_type": "code",
   "execution_count": 129,
   "metadata": {},
   "outputs": [
    {
     "data": {
      "text/html": [
       "<div>\n",
       "<style scoped>\n",
       "    .dataframe tbody tr th:only-of-type {\n",
       "        vertical-align: middle;\n",
       "    }\n",
       "\n",
       "    .dataframe tbody tr th {\n",
       "        vertical-align: top;\n",
       "    }\n",
       "\n",
       "    .dataframe thead th {\n",
       "        text-align: right;\n",
       "    }\n",
       "</style>\n",
       "<table border=\"1\" class=\"dataframe\">\n",
       "  <thead>\n",
       "    <tr style=\"text-align: right;\">\n",
       "      <th></th>\n",
       "      <th>country</th>\n",
       "      <th>region</th>\n",
       "      <th>population</th>\n",
       "      <th>area</th>\n",
       "      <th>density</th>\n",
       "      <th>coastline</th>\n",
       "      <th>migration</th>\n",
       "      <th>infant_mortality</th>\n",
       "      <th>gdp</th>\n",
       "      <th>literacy</th>\n",
       "      <th>phones</th>\n",
       "      <th>arable</th>\n",
       "      <th>crops</th>\n",
       "      <th>climate</th>\n",
       "      <th>birthrate</th>\n",
       "      <th>deathrate</th>\n",
       "      <th>agriculture</th>\n",
       "      <th>industry</th>\n",
       "      <th>service</th>\n",
       "    </tr>\n",
       "  </thead>\n",
       "  <tbody>\n",
       "    <tr>\n",
       "      <th>222</th>\n",
       "      <td>West Bank</td>\n",
       "      <td>NEAR EAST</td>\n",
       "      <td>2460492</td>\n",
       "      <td>5860</td>\n",
       "      <td>419.9</td>\n",
       "      <td>0.00</td>\n",
       "      <td>2.98</td>\n",
       "      <td>19.62</td>\n",
       "      <td>800.0</td>\n",
       "      <td>NaN</td>\n",
       "      <td>145.2</td>\n",
       "      <td>16.90</td>\n",
       "      <td>18.97</td>\n",
       "      <td>3.0</td>\n",
       "      <td>31.67</td>\n",
       "      <td>3.92</td>\n",
       "      <td>0.090</td>\n",
       "      <td>0.280</td>\n",
       "      <td>0.630</td>\n",
       "    </tr>\n",
       "    <tr>\n",
       "      <th>223</th>\n",
       "      <td>Western Sahara</td>\n",
       "      <td>NORTHERN AFRICA</td>\n",
       "      <td>273008</td>\n",
       "      <td>266000</td>\n",
       "      <td>1.0</td>\n",
       "      <td>0.42</td>\n",
       "      <td>NaN</td>\n",
       "      <td>NaN</td>\n",
       "      <td>NaN</td>\n",
       "      <td>NaN</td>\n",
       "      <td>NaN</td>\n",
       "      <td>0.02</td>\n",
       "      <td>0.00</td>\n",
       "      <td>1.0</td>\n",
       "      <td>NaN</td>\n",
       "      <td>NaN</td>\n",
       "      <td>NaN</td>\n",
       "      <td>NaN</td>\n",
       "      <td>0.400</td>\n",
       "    </tr>\n",
       "    <tr>\n",
       "      <th>224</th>\n",
       "      <td>Yemen</td>\n",
       "      <td>NEAR EAST</td>\n",
       "      <td>21456188</td>\n",
       "      <td>527970</td>\n",
       "      <td>40.6</td>\n",
       "      <td>0.36</td>\n",
       "      <td>0.00</td>\n",
       "      <td>61.50</td>\n",
       "      <td>800.0</td>\n",
       "      <td>50.2</td>\n",
       "      <td>37.2</td>\n",
       "      <td>2.78</td>\n",
       "      <td>0.24</td>\n",
       "      <td>1.0</td>\n",
       "      <td>42.89</td>\n",
       "      <td>8.30</td>\n",
       "      <td>0.135</td>\n",
       "      <td>0.472</td>\n",
       "      <td>0.393</td>\n",
       "    </tr>\n",
       "    <tr>\n",
       "      <th>225</th>\n",
       "      <td>Zambia</td>\n",
       "      <td>SUB-SAHARAN AFRICA</td>\n",
       "      <td>11502010</td>\n",
       "      <td>752614</td>\n",
       "      <td>15.3</td>\n",
       "      <td>0.00</td>\n",
       "      <td>0.00</td>\n",
       "      <td>88.29</td>\n",
       "      <td>800.0</td>\n",
       "      <td>80.6</td>\n",
       "      <td>8.2</td>\n",
       "      <td>7.08</td>\n",
       "      <td>0.03</td>\n",
       "      <td>2.0</td>\n",
       "      <td>41.00</td>\n",
       "      <td>19.93</td>\n",
       "      <td>0.220</td>\n",
       "      <td>0.290</td>\n",
       "      <td>0.489</td>\n",
       "    </tr>\n",
       "    <tr>\n",
       "      <th>226</th>\n",
       "      <td>Zimbabwe</td>\n",
       "      <td>SUB-SAHARAN AFRICA</td>\n",
       "      <td>12236805</td>\n",
       "      <td>390580</td>\n",
       "      <td>31.3</td>\n",
       "      <td>0.00</td>\n",
       "      <td>0.00</td>\n",
       "      <td>67.69</td>\n",
       "      <td>1900.0</td>\n",
       "      <td>90.7</td>\n",
       "      <td>26.8</td>\n",
       "      <td>8.32</td>\n",
       "      <td>0.34</td>\n",
       "      <td>2.0</td>\n",
       "      <td>28.01</td>\n",
       "      <td>21.84</td>\n",
       "      <td>0.179</td>\n",
       "      <td>0.243</td>\n",
       "      <td>0.579</td>\n",
       "    </tr>\n",
       "  </tbody>\n",
       "</table>\n",
       "</div>"
      ],
      "text/plain": [
       "            country              region  population    area  density  \\\n",
       "222       West Bank           NEAR EAST     2460492    5860    419.9   \n",
       "223  Western Sahara     NORTHERN AFRICA      273008  266000      1.0   \n",
       "224           Yemen           NEAR EAST    21456188  527970     40.6   \n",
       "225          Zambia  SUB-SAHARAN AFRICA    11502010  752614     15.3   \n",
       "226        Zimbabwe  SUB-SAHARAN AFRICA    12236805  390580     31.3   \n",
       "\n",
       "     coastline  migration  infant_mortality     gdp  literacy  phones  arable  \\\n",
       "222       0.00       2.98             19.62   800.0       NaN   145.2   16.90   \n",
       "223       0.42        NaN               NaN     NaN       NaN     NaN    0.02   \n",
       "224       0.36       0.00             61.50   800.0      50.2    37.2    2.78   \n",
       "225       0.00       0.00             88.29   800.0      80.6     8.2    7.08   \n",
       "226       0.00       0.00             67.69  1900.0      90.7    26.8    8.32   \n",
       "\n",
       "     crops  climate  birthrate  deathrate  agriculture  industry  service  \n",
       "222  18.97      3.0      31.67       3.92        0.090     0.280    0.630  \n",
       "223   0.00      1.0        NaN        NaN          NaN       NaN    0.400  \n",
       "224   0.24      1.0      42.89       8.30        0.135     0.472    0.393  \n",
       "225   0.03      2.0      41.00      19.93        0.220     0.290    0.489  \n",
       "226   0.34      2.0      28.01      21.84        0.179     0.243    0.579  "
      ]
     },
     "execution_count": 129,
     "metadata": {},
     "output_type": "execute_result"
    }
   ],
   "source": [
    "data.tail()  #shows last 5 rows"
   ]
  },
  {
   "cell_type": "markdown",
   "metadata": {},
   "source": [
    "### Did you notice any \"NaN\" values in the table? \n",
    "\n",
    "NaN (or Not a Number) are missing values in the table. These can cause issues when we want to do mathematical operations on the data. Lets see how many of these we have in our data and then lets remove them."
   ]
  },
  {
   "cell_type": "code",
   "execution_count": 130,
   "metadata": {},
   "outputs": [
    {
     "data": {
      "text/plain": [
       "country              0\n",
       "region               0\n",
       "population           0\n",
       "area                 0\n",
       "density              0\n",
       "coastline            0\n",
       "migration            3\n",
       "infant_mortality     3\n",
       "gdp                  1\n",
       "literacy            18\n",
       "phones               4\n",
       "arable               2\n",
       "crops                2\n",
       "climate             22\n",
       "birthrate            3\n",
       "deathrate            4\n",
       "agriculture         15\n",
       "industry            16\n",
       "service             15\n",
       "dtype: int64"
      ]
     },
     "execution_count": 130,
     "metadata": {},
     "output_type": "execute_result"
    }
   ],
   "source": [
    "data.isnull().sum()  # counts how many NULL (missing) values there are for each of the columns"
   ]
  },
  {
   "cell_type": "markdown",
   "metadata": {},
   "source": [
    "To fill in the missing numbers, one technique we can use is to fill in with the mean of the column"
   ]
  },
  {
   "cell_type": "code",
   "execution_count": 131,
   "metadata": {},
   "outputs": [],
   "source": [
    "data.fillna(data.mean(), inplace=True) #using the \"fillna\" method and filling in with the column mean"
   ]
  },
  {
   "cell_type": "markdown",
   "metadata": {},
   "source": [
    "### Indexing"
   ]
  },
  {
   "cell_type": "markdown",
   "metadata": {},
   "source": [
    "#### What if we wanted to see the values from just one column in the table?"
   ]
  },
  {
   "cell_type": "code",
   "execution_count": 132,
   "metadata": {},
   "outputs": [
    {
     "data": {
      "text/plain": [
       "0     647500\n",
       "1      28748\n",
       "2    2381740\n",
       "3        199\n",
       "4        468\n",
       "Name: area, dtype: int64"
      ]
     },
     "execution_count": 132,
     "metadata": {},
     "output_type": "execute_result"
    }
   ],
   "source": [
    "data[\"area\"].head()  # data[\"area\"] - selects just the area column"
   ]
  },
  {
   "cell_type": "markdown",
   "metadata": {},
   "source": [
    "#### Try it out with other combinations of columns and show more than the first 5 rows! "
   ]
  },
  {
   "cell_type": "code",
   "execution_count": 133,
   "metadata": {},
   "outputs": [],
   "source": [
    "#try it out here"
   ]
  },
  {
   "cell_type": "code",
   "execution_count": 134,
   "metadata": {},
   "outputs": [
    {
     "data": {
      "text/html": [
       "<div>\n",
       "<style scoped>\n",
       "    .dataframe tbody tr th:only-of-type {\n",
       "        vertical-align: middle;\n",
       "    }\n",
       "\n",
       "    .dataframe tbody tr th {\n",
       "        vertical-align: top;\n",
       "    }\n",
       "\n",
       "    .dataframe thead th {\n",
       "        text-align: right;\n",
       "    }\n",
       "</style>\n",
       "<table border=\"1\" class=\"dataframe\">\n",
       "  <thead>\n",
       "    <tr style=\"text-align: right;\">\n",
       "      <th></th>\n",
       "      <th>area</th>\n",
       "      <th>gdp</th>\n",
       "    </tr>\n",
       "  </thead>\n",
       "  <tbody>\n",
       "    <tr>\n",
       "      <th>0</th>\n",
       "      <td>647500</td>\n",
       "      <td>700.0</td>\n",
       "    </tr>\n",
       "    <tr>\n",
       "      <th>1</th>\n",
       "      <td>28748</td>\n",
       "      <td>4500.0</td>\n",
       "    </tr>\n",
       "    <tr>\n",
       "      <th>2</th>\n",
       "      <td>2381740</td>\n",
       "      <td>6000.0</td>\n",
       "    </tr>\n",
       "    <tr>\n",
       "      <th>3</th>\n",
       "      <td>199</td>\n",
       "      <td>8000.0</td>\n",
       "    </tr>\n",
       "    <tr>\n",
       "      <th>4</th>\n",
       "      <td>468</td>\n",
       "      <td>19000.0</td>\n",
       "    </tr>\n",
       "    <tr>\n",
       "      <th>5</th>\n",
       "      <td>1246700</td>\n",
       "      <td>1900.0</td>\n",
       "    </tr>\n",
       "    <tr>\n",
       "      <th>6</th>\n",
       "      <td>102</td>\n",
       "      <td>8600.0</td>\n",
       "    </tr>\n",
       "    <tr>\n",
       "      <th>7</th>\n",
       "      <td>443</td>\n",
       "      <td>11000.0</td>\n",
       "    </tr>\n",
       "    <tr>\n",
       "      <th>8</th>\n",
       "      <td>2766890</td>\n",
       "      <td>11200.0</td>\n",
       "    </tr>\n",
       "    <tr>\n",
       "      <th>9</th>\n",
       "      <td>29800</td>\n",
       "      <td>3500.0</td>\n",
       "    </tr>\n",
       "  </tbody>\n",
       "</table>\n",
       "</div>"
      ],
      "text/plain": [
       "      area      gdp\n",
       "0   647500    700.0\n",
       "1    28748   4500.0\n",
       "2  2381740   6000.0\n",
       "3      199   8000.0\n",
       "4      468  19000.0\n",
       "5  1246700   1900.0\n",
       "6      102   8600.0\n",
       "7      443  11000.0\n",
       "8  2766890  11200.0\n",
       "9    29800   3500.0"
      ]
     },
     "execution_count": 134,
     "metadata": {},
     "output_type": "execute_result"
    }
   ],
   "source": [
    "selected_rows = data.head(10)          # select first 10 rows\n",
    "selected_rows.loc[:, [\"area\",\"gdp\"]] \n",
    "\n",
    "#\"loc\" is a method call that takes 2 arguments: \n",
    "#first one, the \":\" identifies the rows we want to select. e.g. \":\" = all rows, \"1:5\" = row 1 to 5\n",
    "#second one, \"[\"area\",\"gdp\"]\" identifies the columns we want to select, in this case we select the \"area\" and \"gdp\" columns"
   ]
  },
  {
   "cell_type": "markdown",
   "metadata": {},
   "source": [
    "#### Other examples you can try below. Change the parameters and see what happens!"
   ]
  },
  {
   "cell_type": "code",
   "execution_count": 135,
   "metadata": {},
   "outputs": [],
   "source": [
    "#selected_rows.loc[:5,:]\n",
    "#selected_rows.loc[::-1,[\"area\"]]"
   ]
  },
  {
   "cell_type": "markdown",
   "metadata": {},
   "source": [
    "#### How can we see all countries in Western Europe?"
   ]
  },
  {
   "cell_type": "code",
   "execution_count": 136,
   "metadata": {},
   "outputs": [
    {
     "data": {
      "text/html": [
       "<div>\n",
       "<style scoped>\n",
       "    .dataframe tbody tr th:only-of-type {\n",
       "        vertical-align: middle;\n",
       "    }\n",
       "\n",
       "    .dataframe tbody tr th {\n",
       "        vertical-align: top;\n",
       "    }\n",
       "\n",
       "    .dataframe thead th {\n",
       "        text-align: right;\n",
       "    }\n",
       "</style>\n",
       "<table border=\"1\" class=\"dataframe\">\n",
       "  <thead>\n",
       "    <tr style=\"text-align: right;\">\n",
       "      <th></th>\n",
       "      <th>country</th>\n",
       "      <th>region</th>\n",
       "      <th>population</th>\n",
       "      <th>area</th>\n",
       "      <th>density</th>\n",
       "      <th>coastline</th>\n",
       "      <th>migration</th>\n",
       "      <th>infant_mortality</th>\n",
       "      <th>gdp</th>\n",
       "      <th>literacy</th>\n",
       "      <th>phones</th>\n",
       "      <th>arable</th>\n",
       "      <th>crops</th>\n",
       "      <th>climate</th>\n",
       "      <th>birthrate</th>\n",
       "      <th>deathrate</th>\n",
       "      <th>agriculture</th>\n",
       "      <th>industry</th>\n",
       "      <th>service</th>\n",
       "    </tr>\n",
       "  </thead>\n",
       "  <tbody>\n",
       "    <tr>\n",
       "      <th>4</th>\n",
       "      <td>Andorra</td>\n",
       "      <td>WESTERN EUROPE</td>\n",
       "      <td>71201</td>\n",
       "      <td>468</td>\n",
       "      <td>152.1</td>\n",
       "      <td>0.00</td>\n",
       "      <td>6.60</td>\n",
       "      <td>4.05</td>\n",
       "      <td>19000.0</td>\n",
       "      <td>100.000000</td>\n",
       "      <td>497.2</td>\n",
       "      <td>2.22</td>\n",
       "      <td>0.00</td>\n",
       "      <td>3.000000</td>\n",
       "      <td>8.71</td>\n",
       "      <td>6.25</td>\n",
       "      <td>0.150844</td>\n",
       "      <td>0.282711</td>\n",
       "      <td>0.565283</td>\n",
       "    </tr>\n",
       "    <tr>\n",
       "      <th>12</th>\n",
       "      <td>Austria</td>\n",
       "      <td>WESTERN EUROPE</td>\n",
       "      <td>8192880</td>\n",
       "      <td>83870</td>\n",
       "      <td>97.7</td>\n",
       "      <td>0.00</td>\n",
       "      <td>2.00</td>\n",
       "      <td>4.66</td>\n",
       "      <td>30000.0</td>\n",
       "      <td>98.000000</td>\n",
       "      <td>452.2</td>\n",
       "      <td>16.91</td>\n",
       "      <td>0.86</td>\n",
       "      <td>3.000000</td>\n",
       "      <td>8.74</td>\n",
       "      <td>9.76</td>\n",
       "      <td>0.018000</td>\n",
       "      <td>0.304000</td>\n",
       "      <td>0.678000</td>\n",
       "    </tr>\n",
       "    <tr>\n",
       "      <th>19</th>\n",
       "      <td>Belgium</td>\n",
       "      <td>WESTERN EUROPE</td>\n",
       "      <td>10379067</td>\n",
       "      <td>30528</td>\n",
       "      <td>340.0</td>\n",
       "      <td>0.22</td>\n",
       "      <td>1.23</td>\n",
       "      <td>4.68</td>\n",
       "      <td>29100.0</td>\n",
       "      <td>98.000000</td>\n",
       "      <td>462.6</td>\n",
       "      <td>23.28</td>\n",
       "      <td>0.40</td>\n",
       "      <td>3.000000</td>\n",
       "      <td>10.38</td>\n",
       "      <td>10.27</td>\n",
       "      <td>0.010000</td>\n",
       "      <td>0.240000</td>\n",
       "      <td>0.749000</td>\n",
       "    </tr>\n",
       "    <tr>\n",
       "      <th>54</th>\n",
       "      <td>Denmark</td>\n",
       "      <td>WESTERN EUROPE</td>\n",
       "      <td>5450661</td>\n",
       "      <td>43094</td>\n",
       "      <td>126.5</td>\n",
       "      <td>16.97</td>\n",
       "      <td>2.48</td>\n",
       "      <td>4.56</td>\n",
       "      <td>31100.0</td>\n",
       "      <td>100.000000</td>\n",
       "      <td>614.6</td>\n",
       "      <td>54.02</td>\n",
       "      <td>0.19</td>\n",
       "      <td>3.000000</td>\n",
       "      <td>11.13</td>\n",
       "      <td>10.36</td>\n",
       "      <td>0.018000</td>\n",
       "      <td>0.246000</td>\n",
       "      <td>0.735000</td>\n",
       "    </tr>\n",
       "    <tr>\n",
       "      <th>66</th>\n",
       "      <td>Faroe Islands</td>\n",
       "      <td>WESTERN EUROPE</td>\n",
       "      <td>47246</td>\n",
       "      <td>1399</td>\n",
       "      <td>33.8</td>\n",
       "      <td>79.84</td>\n",
       "      <td>1.41</td>\n",
       "      <td>6.24</td>\n",
       "      <td>22000.0</td>\n",
       "      <td>82.838278</td>\n",
       "      <td>503.8</td>\n",
       "      <td>2.14</td>\n",
       "      <td>0.00</td>\n",
       "      <td>2.139024</td>\n",
       "      <td>14.05</td>\n",
       "      <td>8.70</td>\n",
       "      <td>0.270000</td>\n",
       "      <td>0.110000</td>\n",
       "      <td>0.620000</td>\n",
       "    </tr>\n",
       "  </tbody>\n",
       "</table>\n",
       "</div>"
      ],
      "text/plain": [
       "          country          region  population   area  density  coastline  \\\n",
       "4         Andorra  WESTERN EUROPE       71201    468    152.1       0.00   \n",
       "12        Austria  WESTERN EUROPE     8192880  83870     97.7       0.00   \n",
       "19        Belgium  WESTERN EUROPE    10379067  30528    340.0       0.22   \n",
       "54        Denmark  WESTERN EUROPE     5450661  43094    126.5      16.97   \n",
       "66  Faroe Islands  WESTERN EUROPE       47246   1399     33.8      79.84   \n",
       "\n",
       "    migration  infant_mortality      gdp    literacy  phones  arable  crops  \\\n",
       "4        6.60              4.05  19000.0  100.000000   497.2    2.22   0.00   \n",
       "12       2.00              4.66  30000.0   98.000000   452.2   16.91   0.86   \n",
       "19       1.23              4.68  29100.0   98.000000   462.6   23.28   0.40   \n",
       "54       2.48              4.56  31100.0  100.000000   614.6   54.02   0.19   \n",
       "66       1.41              6.24  22000.0   82.838278   503.8    2.14   0.00   \n",
       "\n",
       "     climate  birthrate  deathrate  agriculture  industry   service  \n",
       "4   3.000000       8.71       6.25     0.150844  0.282711  0.565283  \n",
       "12  3.000000       8.74       9.76     0.018000  0.304000  0.678000  \n",
       "19  3.000000      10.38      10.27     0.010000  0.240000  0.749000  \n",
       "54  3.000000      11.13      10.36     0.018000  0.246000  0.735000  \n",
       "66  2.139024      14.05       8.70     0.270000  0.110000  0.620000  "
      ]
     },
     "execution_count": 136,
     "metadata": {},
     "output_type": "execute_result"
    }
   ],
   "source": [
    "data[data[\"region\"] == \"WESTERN EUROPE\"].head() #selects all rows where the region is equal to \"WESTERN EUROPE\""
   ]
  },
  {
   "cell_type": "markdown",
   "metadata": {},
   "source": [
    "### Sorting"
   ]
  },
  {
   "cell_type": "code",
   "execution_count": 137,
   "metadata": {
    "scrolled": false
   },
   "outputs": [
    {
     "data": {
      "text/html": [
       "<div>\n",
       "<style scoped>\n",
       "    .dataframe tbody tr th:only-of-type {\n",
       "        vertical-align: middle;\n",
       "    }\n",
       "\n",
       "    .dataframe tbody tr th {\n",
       "        vertical-align: top;\n",
       "    }\n",
       "\n",
       "    .dataframe thead th {\n",
       "        text-align: right;\n",
       "    }\n",
       "</style>\n",
       "<table border=\"1\" class=\"dataframe\">\n",
       "  <thead>\n",
       "    <tr style=\"text-align: right;\">\n",
       "      <th></th>\n",
       "      <th>country</th>\n",
       "      <th>region</th>\n",
       "      <th>population</th>\n",
       "      <th>area</th>\n",
       "      <th>density</th>\n",
       "      <th>coastline</th>\n",
       "      <th>migration</th>\n",
       "      <th>infant_mortality</th>\n",
       "      <th>gdp</th>\n",
       "      <th>literacy</th>\n",
       "      <th>phones</th>\n",
       "      <th>arable</th>\n",
       "      <th>crops</th>\n",
       "      <th>climate</th>\n",
       "      <th>birthrate</th>\n",
       "      <th>deathrate</th>\n",
       "      <th>agriculture</th>\n",
       "      <th>industry</th>\n",
       "      <th>service</th>\n",
       "    </tr>\n",
       "  </thead>\n",
       "  <tbody>\n",
       "    <tr>\n",
       "      <th>138</th>\n",
       "      <td>Monaco</td>\n",
       "      <td>WESTERN EUROPE</td>\n",
       "      <td>32543</td>\n",
       "      <td>2</td>\n",
       "      <td>16271.5</td>\n",
       "      <td>205.00</td>\n",
       "      <td>7.75</td>\n",
       "      <td>5.43</td>\n",
       "      <td>27000.0</td>\n",
       "      <td>99.000000</td>\n",
       "      <td>1035.6</td>\n",
       "      <td>0.0</td>\n",
       "      <td>0.0</td>\n",
       "      <td>2.139024</td>\n",
       "      <td>9.19</td>\n",
       "      <td>12.91</td>\n",
       "      <td>0.170000</td>\n",
       "      <td>0.282711</td>\n",
       "      <td>0.565283</td>\n",
       "    </tr>\n",
       "    <tr>\n",
       "      <th>78</th>\n",
       "      <td>Gibraltar</td>\n",
       "      <td>WESTERN EUROPE</td>\n",
       "      <td>27928</td>\n",
       "      <td>7</td>\n",
       "      <td>3989.7</td>\n",
       "      <td>171.43</td>\n",
       "      <td>0.00</td>\n",
       "      <td>5.13</td>\n",
       "      <td>17500.0</td>\n",
       "      <td>82.838278</td>\n",
       "      <td>877.7</td>\n",
       "      <td>0.0</td>\n",
       "      <td>0.0</td>\n",
       "      <td>2.139024</td>\n",
       "      <td>10.74</td>\n",
       "      <td>9.31</td>\n",
       "      <td>0.150844</td>\n",
       "      <td>0.282711</td>\n",
       "      <td>0.565283</td>\n",
       "    </tr>\n",
       "    <tr>\n",
       "      <th>144</th>\n",
       "      <td>Nauru</td>\n",
       "      <td>OCEANIA</td>\n",
       "      <td>13287</td>\n",
       "      <td>21</td>\n",
       "      <td>632.7</td>\n",
       "      <td>142.86</td>\n",
       "      <td>0.00</td>\n",
       "      <td>9.95</td>\n",
       "      <td>5000.0</td>\n",
       "      <td>82.838278</td>\n",
       "      <td>143.0</td>\n",
       "      <td>0.0</td>\n",
       "      <td>0.0</td>\n",
       "      <td>2.000000</td>\n",
       "      <td>24.76</td>\n",
       "      <td>6.70</td>\n",
       "      <td>0.150844</td>\n",
       "      <td>0.282711</td>\n",
       "      <td>0.565283</td>\n",
       "    </tr>\n",
       "    <tr>\n",
       "      <th>209</th>\n",
       "      <td>Tuvalu</td>\n",
       "      <td>OCEANIA</td>\n",
       "      <td>11810</td>\n",
       "      <td>26</td>\n",
       "      <td>454.2</td>\n",
       "      <td>92.31</td>\n",
       "      <td>0.00</td>\n",
       "      <td>20.03</td>\n",
       "      <td>1100.0</td>\n",
       "      <td>82.838278</td>\n",
       "      <td>59.3</td>\n",
       "      <td>0.0</td>\n",
       "      <td>0.0</td>\n",
       "      <td>2.000000</td>\n",
       "      <td>22.18</td>\n",
       "      <td>7.11</td>\n",
       "      <td>0.166000</td>\n",
       "      <td>0.272000</td>\n",
       "      <td>0.562000</td>\n",
       "    </tr>\n",
       "    <tr>\n",
       "      <th>122</th>\n",
       "      <td>Macau</td>\n",
       "      <td>ASIA (EX. NEAR EAST)</td>\n",
       "      <td>453125</td>\n",
       "      <td>28</td>\n",
       "      <td>16183.0</td>\n",
       "      <td>146.43</td>\n",
       "      <td>4.86</td>\n",
       "      <td>4.39</td>\n",
       "      <td>19400.0</td>\n",
       "      <td>94.500000</td>\n",
       "      <td>384.9</td>\n",
       "      <td>0.0</td>\n",
       "      <td>0.0</td>\n",
       "      <td>2.000000</td>\n",
       "      <td>8.48</td>\n",
       "      <td>4.47</td>\n",
       "      <td>0.001000</td>\n",
       "      <td>0.072000</td>\n",
       "      <td>0.927000</td>\n",
       "    </tr>\n",
       "  </tbody>\n",
       "</table>\n",
       "</div>"
      ],
      "text/plain": [
       "       country                region  population  area  density  coastline  \\\n",
       "138     Monaco        WESTERN EUROPE       32543     2  16271.5     205.00   \n",
       "78   Gibraltar        WESTERN EUROPE       27928     7   3989.7     171.43   \n",
       "144      Nauru               OCEANIA       13287    21    632.7     142.86   \n",
       "209     Tuvalu               OCEANIA       11810    26    454.2      92.31   \n",
       "122      Macau  ASIA (EX. NEAR EAST)      453125    28  16183.0     146.43   \n",
       "\n",
       "     migration  infant_mortality      gdp   literacy  phones  arable  crops  \\\n",
       "138       7.75              5.43  27000.0  99.000000  1035.6     0.0    0.0   \n",
       "78        0.00              5.13  17500.0  82.838278   877.7     0.0    0.0   \n",
       "144       0.00              9.95   5000.0  82.838278   143.0     0.0    0.0   \n",
       "209       0.00             20.03   1100.0  82.838278    59.3     0.0    0.0   \n",
       "122       4.86              4.39  19400.0  94.500000   384.9     0.0    0.0   \n",
       "\n",
       "      climate  birthrate  deathrate  agriculture  industry   service  \n",
       "138  2.139024       9.19      12.91     0.170000  0.282711  0.565283  \n",
       "78   2.139024      10.74       9.31     0.150844  0.282711  0.565283  \n",
       "144  2.000000      24.76       6.70     0.150844  0.282711  0.565283  \n",
       "209  2.000000      22.18       7.11     0.166000  0.272000  0.562000  \n",
       "122  2.000000       8.48       4.47     0.001000  0.072000  0.927000  "
      ]
     },
     "execution_count": 137,
     "metadata": {},
     "output_type": "execute_result"
    }
   ],
   "source": [
    "data.sort_values(by=\"area\", ascending=True).head() # here we are passing parameters by name"
   ]
  },
  {
   "cell_type": "markdown",
   "metadata": {},
   "source": [
    "#### Try sorting by diferent columns! "
   ]
  },
  {
   "cell_type": "code",
   "execution_count": 138,
   "metadata": {},
   "outputs": [],
   "source": [
    "#try it out here"
   ]
  },
  {
   "cell_type": "markdown",
   "metadata": {},
   "source": [
    "### Grouping rows together by a specific column"
   ]
  },
  {
   "cell_type": "markdown",
   "metadata": {},
   "source": [
    "#### How many coutries does each region have? "
   ]
  },
  {
   "cell_type": "code",
   "execution_count": 139,
   "metadata": {},
   "outputs": [],
   "source": [
    "countries_in_region = data.groupby(\"region\").size()"
   ]
  },
  {
   "cell_type": "markdown",
   "metadata": {},
   "source": [
    "#### Using the sorting method learned above, can you try sorting the countries in region? "
   ]
  },
  {
   "cell_type": "code",
   "execution_count": 140,
   "metadata": {},
   "outputs": [],
   "source": [
    "#countries_in_region. ...write your code here"
   ]
  },
  {
   "cell_type": "markdown",
   "metadata": {},
   "source": [
    "## 3. Exploring and discovering information from the dataset"
   ]
  },
  {
   "cell_type": "markdown",
   "metadata": {},
   "source": [
    "### 3.1. What are the top 10 countries with highest GDP?"
   ]
  },
  {
   "cell_type": "markdown",
   "metadata": {},
   "source": [
    "#### Using what we just learned, we can combine \"sort_values\" with \"head\" to show top rows. \n",
    "Uncomment the line below and fill in the missing dots to show what we want"
   ]
  },
  {
   "cell_type": "code",
   "execution_count": 141,
   "metadata": {},
   "outputs": [],
   "source": [
    "#top_ten_gdp = data.sort_values(by=..., ascending=...).head(...)"
   ]
  },
  {
   "cell_type": "markdown",
   "metadata": {},
   "source": [
    "### 3.2. What are the top 10 most crowded countries?\n"
   ]
  },
  {
   "cell_type": "code",
   "execution_count": 142,
   "metadata": {},
   "outputs": [],
   "source": [
    "#data.sort_values(by=..., ascending=...).head(...)"
   ]
  },
  {
   "cell_type": "markdown",
   "metadata": {},
   "source": [
    "### 3.3. What are the driest countries in the world?\n"
   ]
  },
  {
   "cell_type": "markdown",
   "metadata": {},
   "source": [
    "#### We have a column \"climate\" which contains 4 categories. The driest climate has category 1"
   ]
  },
  {
   "cell_type": "code",
   "execution_count": 143,
   "metadata": {},
   "outputs": [],
   "source": [
    "#driest_countries = data[...]"
   ]
  },
  {
   "cell_type": "markdown",
   "metadata": {},
   "source": [
    "### 3.4. What is the driest country in the world that also has the largest area?"
   ]
  },
  {
   "cell_type": "code",
   "execution_count": 144,
   "metadata": {},
   "outputs": [],
   "source": [
    "#write your code here"
   ]
  },
  {
   "cell_type": "markdown",
   "metadata": {},
   "source": [
    "### 3.5. What is the total population of all the countries in the world?"
   ]
  },
  {
   "cell_type": "code",
   "execution_count": 145,
   "metadata": {},
   "outputs": [],
   "source": [
    "#write your code here"
   ]
  },
  {
   "cell_type": "markdown",
   "metadata": {},
   "source": [
    "### 3.6. What percentage of the world population is using phones?"
   ]
  },
  {
   "cell_type": "code",
   "execution_count": 146,
   "metadata": {},
   "outputs": [],
   "source": [
    "#Remember that \"phones\" column represents the number of mobile phone users per 1,000 persons\n",
    "\n",
    "#write your code here"
   ]
  },
  {
   "cell_type": "markdown",
   "metadata": {},
   "source": [
    "### 3.7. What is the total arable area of all the countries in the world?"
   ]
  },
  {
   "cell_type": "code",
   "execution_count": 147,
   "metadata": {},
   "outputs": [],
   "source": [
    "#\"arable\" column is expressed in percentage:\n",
    "#arable land cultivated for crops like wheat, maize, and rice that are replanted after each harvest\n",
    "\n",
    "#write your code here"
   ]
  },
  {
   "cell_type": "markdown",
   "metadata": {},
   "source": [
    "### 3.8. What is the country with the highest total net migration"
   ]
  },
  {
   "cell_type": "code",
   "execution_count": 148,
   "metadata": {},
   "outputs": [],
   "source": [
    "#migration(net) : difference between the number of persons entering and leaving a country during the year per 1,000 persons\n",
    "\n",
    "#write your code here"
   ]
  },
  {
   "cell_type": "markdown",
   "metadata": {},
   "source": [
    "## 4. Visualizing information from the dataset"
   ]
  },
  {
   "cell_type": "markdown",
   "metadata": {},
   "source": [
    "Vizualizing data in a graphical format enables us to get a better understanding of large amounts \n",
    "of information and try to identify trends/patterns that might be present in our dataset. It is a very powerful tool that enables\n",
    "scientists to grasp dificult concepts more easily. \n",
    "\n",
    "Some common types of data visualization:\n",
    "\n",
    "    bar and column charts\n",
    "    pie charts\n",
    "    heatmaps"
   ]
  },
  {
   "cell_type": "markdown",
   "metadata": {},
   "source": [
    "### 4.1. Plot the GDP per capita for the top 10 countries with highest GDP"
   ]
  },
  {
   "cell_type": "code",
   "execution_count": 149,
   "metadata": {},
   "outputs": [
    {
     "data": {
      "image/png": "[encoded data removed]",
      "text/plain": [
       "<Figure size 864x432 with 1 Axes>"
      ]
     },
     "metadata": {
      "needs_background": "light"
     },
     "output_type": "display_data"
    }
   ],
   "source": [
    "top_ten_gdp = data.sort_values(by = 'gdp', ascending = False).head(10)\n",
    "plt.subplots(figsize = (12,6))\n",
    "sns.barplot(x = 'country', y = 'gdp', data = top_ten_gdp)\n",
    "plt.xticks(rotation = 90)\n",
    "plt.show()"
   ]
  },
  {
   "cell_type": "markdown",
   "metadata": {},
   "source": [
    "### 4.2. Given we have data for \"phones\" and \"gdp (per capita)\", can we find any correlation between them in the dataset?"
   ]
  },
  {
   "cell_type": "code",
   "execution_count": 150,
   "metadata": {},
   "outputs": [
    {
     "data": {
      "text/html": [
       "<div>\n",
       "<style scoped>\n",
       "    .dataframe tbody tr th:only-of-type {\n",
       "        vertical-align: middle;\n",
       "    }\n",
       "\n",
       "    .dataframe tbody tr th {\n",
       "        vertical-align: top;\n",
       "    }\n",
       "\n",
       "    .dataframe thead th {\n",
       "        text-align: right;\n",
       "    }\n",
       "</style>\n",
       "<table border=\"1\" class=\"dataframe\">\n",
       "  <thead>\n",
       "    <tr style=\"text-align: right;\">\n",
       "      <th></th>\n",
       "      <th>population</th>\n",
       "      <th>area</th>\n",
       "      <th>density</th>\n",
       "      <th>coastline</th>\n",
       "      <th>migration</th>\n",
       "      <th>infant_mortality</th>\n",
       "      <th>gdp</th>\n",
       "      <th>literacy</th>\n",
       "      <th>phones</th>\n",
       "      <th>arable</th>\n",
       "      <th>crops</th>\n",
       "      <th>climate</th>\n",
       "      <th>birthrate</th>\n",
       "      <th>deathrate</th>\n",
       "      <th>agriculture</th>\n",
       "      <th>industry</th>\n",
       "      <th>service</th>\n",
       "    </tr>\n",
       "  </thead>\n",
       "  <tbody>\n",
       "    <tr>\n",
       "      <th>population</th>\n",
       "      <td>1.000000</td>\n",
       "      <td>0.469985</td>\n",
       "      <td>-0.028190</td>\n",
       "      <td>-0.068199</td>\n",
       "      <td>0.000011</td>\n",
       "      <td>0.022994</td>\n",
       "      <td>-0.039319</td>\n",
       "      <td>-0.043376</td>\n",
       "      <td>-0.030803</td>\n",
       "      <td>0.188201</td>\n",
       "      <td>-0.060741</td>\n",
       "      <td>-0.026439</td>\n",
       "      <td>-0.045075</td>\n",
       "      <td>-0.028354</td>\n",
       "      <td>0.000375</td>\n",
       "      <td>0.099109</td>\n",
       "      <td>-0.080681</td>\n",
       "    </tr>\n",
       "    <tr>\n",
       "      <th>area</th>\n",
       "      <td>0.469985</td>\n",
       "      <td>1.000000</td>\n",
       "      <td>-0.066917</td>\n",
       "      <td>-0.095627</td>\n",
       "      <td>0.047442</td>\n",
       "      <td>-0.007159</td>\n",
       "      <td>0.072179</td>\n",
       "      <td>0.035784</td>\n",
       "      <td>0.053360</td>\n",
       "      <td>-0.079674</td>\n",
       "      <td>-0.143844</td>\n",
       "      <td>-0.082128</td>\n",
       "      <td>-0.066389</td>\n",
       "      <td>0.040049</td>\n",
       "      <td>-0.050380</td>\n",
       "      <td>0.120907</td>\n",
       "      <td>-0.054080</td>\n",
       "    </tr>\n",
       "    <tr>\n",
       "      <th>density</th>\n",
       "      <td>-0.028190</td>\n",
       "      <td>-0.066917</td>\n",
       "      <td>1.000000</td>\n",
       "      <td>0.241690</td>\n",
       "      <td>0.177990</td>\n",
       "      <td>-0.144200</td>\n",
       "      <td>0.195751</td>\n",
       "      <td>0.095056</td>\n",
       "      <td>0.280079</td>\n",
       "      <td>-0.080999</td>\n",
       "      <td>-0.031655</td>\n",
       "      <td>0.006830</td>\n",
       "      <td>-0.159150</td>\n",
       "      <td>-0.070022</td>\n",
       "      <td>-0.105925</td>\n",
       "      <td>-0.105524</td>\n",
       "      <td>0.187798</td>\n",
       "    </tr>\n",
       "    <tr>\n",
       "      <th>coastline</th>\n",
       "      <td>-0.068199</td>\n",
       "      <td>-0.095627</td>\n",
       "      <td>0.241690</td>\n",
       "      <td>1.000000</td>\n",
       "      <td>-0.134035</td>\n",
       "      <td>-0.136465</td>\n",
       "      <td>0.049109</td>\n",
       "      <td>0.113651</td>\n",
       "      <td>0.152050</td>\n",
       "      <td>-0.120636</td>\n",
       "      <td>0.341433</td>\n",
       "      <td>-0.031614</td>\n",
       "      <td>-0.075715</td>\n",
       "      <td>-0.161703</td>\n",
       "      <td>-0.028483</td>\n",
       "      <td>-0.185124</td>\n",
       "      <td>0.181939</td>\n",
       "    </tr>\n",
       "    <tr>\n",
       "      <th>migration</th>\n",
       "      <td>0.000011</td>\n",
       "      <td>0.047442</td>\n",
       "      <td>0.177990</td>\n",
       "      <td>-0.134035</td>\n",
       "      <td>1.000000</td>\n",
       "      <td>-0.025015</td>\n",
       "      <td>0.381969</td>\n",
       "      <td>-0.008506</td>\n",
       "      <td>0.239424</td>\n",
       "      <td>-0.057689</td>\n",
       "      <td>-0.340151</td>\n",
       "      <td>-0.014878</td>\n",
       "      <td>-0.066523</td>\n",
       "      <td>0.033605</td>\n",
       "      <td>-0.105674</td>\n",
       "      <td>-0.023679</td>\n",
       "      <td>0.113697</td>\n",
       "    </tr>\n",
       "    <tr>\n",
       "      <th>infant_mortality</th>\n",
       "      <td>0.022994</td>\n",
       "      <td>-0.007159</td>\n",
       "      <td>-0.144200</td>\n",
       "      <td>-0.136465</td>\n",
       "      <td>-0.025015</td>\n",
       "      <td>1.000000</td>\n",
       "      <td>-0.600002</td>\n",
       "      <td>-0.745543</td>\n",
       "      <td>-0.669715</td>\n",
       "      <td>-0.113094</td>\n",
       "      <td>-0.061159</td>\n",
       "      <td>-0.342848</td>\n",
       "      <td>0.844968</td>\n",
       "      <td>0.655734</td>\n",
       "      <td>0.697303</td>\n",
       "      <td>0.003510</td>\n",
       "      <td>-0.618623</td>\n",
       "    </tr>\n",
       "    <tr>\n",
       "      <th>gdp</th>\n",
       "      <td>-0.039319</td>\n",
       "      <td>0.072179</td>\n",
       "      <td>0.195751</td>\n",
       "      <td>0.049109</td>\n",
       "      <td>0.381969</td>\n",
       "      <td>-0.600002</td>\n",
       "      <td>1.000000</td>\n",
       "      <td>0.497963</td>\n",
       "      <td>0.830549</td>\n",
       "      <td>0.019643</td>\n",
       "      <td>-0.218330</td>\n",
       "      <td>0.302404</td>\n",
       "      <td>-0.648808</td>\n",
       "      <td>-0.201148</td>\n",
       "      <td>-0.570735</td>\n",
       "      <td>-0.027935</td>\n",
       "      <td>0.529995</td>\n",
       "    </tr>\n",
       "    <tr>\n",
       "      <th>literacy</th>\n",
       "      <td>-0.043376</td>\n",
       "      <td>0.035784</td>\n",
       "      <td>0.095056</td>\n",
       "      <td>0.113651</td>\n",
       "      <td>-0.008506</td>\n",
       "      <td>-0.745543</td>\n",
       "      <td>0.497963</td>\n",
       "      <td>1.000000</td>\n",
       "      <td>0.549913</td>\n",
       "      <td>0.101927</td>\n",
       "      <td>0.038808</td>\n",
       "      <td>0.352569</td>\n",
       "      <td>-0.755196</td>\n",
       "      <td>-0.386376</td>\n",
       "      <td>-0.585492</td>\n",
       "      <td>0.060661</td>\n",
       "      <td>0.465706</td>\n",
       "    </tr>\n",
       "    <tr>\n",
       "      <th>phones</th>\n",
       "      <td>-0.030803</td>\n",
       "      <td>0.053360</td>\n",
       "      <td>0.280079</td>\n",
       "      <td>0.152050</td>\n",
       "      <td>0.239424</td>\n",
       "      <td>-0.669715</td>\n",
       "      <td>0.830549</td>\n",
       "      <td>0.549913</td>\n",
       "      <td>1.000000</td>\n",
       "      <td>0.059606</td>\n",
       "      <td>-0.149517</td>\n",
       "      <td>0.358574</td>\n",
       "      <td>-0.722329</td>\n",
       "      <td>-0.259708</td>\n",
       "      <td>-0.571704</td>\n",
       "      <td>-0.140516</td>\n",
       "      <td>0.625770</td>\n",
       "    </tr>\n",
       "    <tr>\n",
       "      <th>arable</th>\n",
       "      <td>0.188201</td>\n",
       "      <td>-0.079674</td>\n",
       "      <td>-0.080999</td>\n",
       "      <td>-0.120636</td>\n",
       "      <td>-0.057689</td>\n",
       "      <td>-0.113094</td>\n",
       "      <td>0.019643</td>\n",
       "      <td>0.101927</td>\n",
       "      <td>0.059606</td>\n",
       "      <td>1.000000</td>\n",
       "      <td>0.094361</td>\n",
       "      <td>0.353444</td>\n",
       "      <td>-0.183449</td>\n",
       "      <td>0.052991</td>\n",
       "      <td>-0.034080</td>\n",
       "      <td>-0.061923</td>\n",
       "      <td>0.088649</td>\n",
       "    </tr>\n",
       "    <tr>\n",
       "      <th>crops</th>\n",
       "      <td>-0.060741</td>\n",
       "      <td>-0.143844</td>\n",
       "      <td>-0.031655</td>\n",
       "      <td>0.341433</td>\n",
       "      <td>-0.340151</td>\n",
       "      <td>-0.061159</td>\n",
       "      <td>-0.218330</td>\n",
       "      <td>0.038808</td>\n",
       "      <td>-0.149517</td>\n",
       "      <td>0.094361</td>\n",
       "      <td>1.000000</td>\n",
       "      <td>0.004121</td>\n",
       "      <td>0.117851</td>\n",
       "      <td>-0.201520</td>\n",
       "      <td>0.051367</td>\n",
       "      <td>-0.113796</td>\n",
       "      <td>0.051980</td>\n",
       "    </tr>\n",
       "    <tr>\n",
       "      <th>climate</th>\n",
       "      <td>-0.026439</td>\n",
       "      <td>-0.082128</td>\n",
       "      <td>0.006830</td>\n",
       "      <td>-0.031614</td>\n",
       "      <td>-0.014878</td>\n",
       "      <td>-0.342848</td>\n",
       "      <td>0.302404</td>\n",
       "      <td>0.352569</td>\n",
       "      <td>0.358574</td>\n",
       "      <td>0.353444</td>\n",
       "      <td>0.004121</td>\n",
       "      <td>1.000000</td>\n",
       "      <td>-0.427579</td>\n",
       "      <td>0.010458</td>\n",
       "      <td>-0.200416</td>\n",
       "      <td>-0.089925</td>\n",
       "      <td>0.260911</td>\n",
       "    </tr>\n",
       "    <tr>\n",
       "      <th>birthrate</th>\n",
       "      <td>-0.045075</td>\n",
       "      <td>-0.066389</td>\n",
       "      <td>-0.159150</td>\n",
       "      <td>-0.075715</td>\n",
       "      <td>-0.066523</td>\n",
       "      <td>0.844968</td>\n",
       "      <td>-0.648808</td>\n",
       "      <td>-0.755196</td>\n",
       "      <td>-0.722329</td>\n",
       "      <td>-0.183449</td>\n",
       "      <td>0.117851</td>\n",
       "      <td>-0.427579</td>\n",
       "      <td>1.000000</td>\n",
       "      <td>0.395293</td>\n",
       "      <td>0.664903</td>\n",
       "      <td>-0.055626</td>\n",
       "      <td>-0.543583</td>\n",
       "    </tr>\n",
       "    <tr>\n",
       "      <th>deathrate</th>\n",
       "      <td>-0.028354</td>\n",
       "      <td>0.040049</td>\n",
       "      <td>-0.070022</td>\n",
       "      <td>-0.161703</td>\n",
       "      <td>0.033605</td>\n",
       "      <td>0.655734</td>\n",
       "      <td>-0.201148</td>\n",
       "      <td>-0.386376</td>\n",
       "      <td>-0.259708</td>\n",
       "      <td>0.052991</td>\n",
       "      <td>-0.201520</td>\n",
       "      <td>0.010458</td>\n",
       "      <td>0.395293</td>\n",
       "      <td>1.000000</td>\n",
       "      <td>0.376291</td>\n",
       "      <td>0.026527</td>\n",
       "      <td>-0.351593</td>\n",
       "    </tr>\n",
       "    <tr>\n",
       "      <th>agriculture</th>\n",
       "      <td>0.000375</td>\n",
       "      <td>-0.050380</td>\n",
       "      <td>-0.105925</td>\n",
       "      <td>-0.028483</td>\n",
       "      <td>-0.105674</td>\n",
       "      <td>0.697303</td>\n",
       "      <td>-0.570735</td>\n",
       "      <td>-0.585492</td>\n",
       "      <td>-0.571704</td>\n",
       "      <td>-0.034080</td>\n",
       "      <td>0.051367</td>\n",
       "      <td>-0.200416</td>\n",
       "      <td>0.664903</td>\n",
       "      <td>0.376291</td>\n",
       "      <td>1.000000</td>\n",
       "      <td>-0.322896</td>\n",
       "      <td>-0.615556</td>\n",
       "    </tr>\n",
       "    <tr>\n",
       "      <th>industry</th>\n",
       "      <td>0.099109</td>\n",
       "      <td>0.120907</td>\n",
       "      <td>-0.105524</td>\n",
       "      <td>-0.185124</td>\n",
       "      <td>-0.023679</td>\n",
       "      <td>0.003510</td>\n",
       "      <td>-0.027935</td>\n",
       "      <td>0.060661</td>\n",
       "      <td>-0.140516</td>\n",
       "      <td>-0.061923</td>\n",
       "      <td>-0.113796</td>\n",
       "      <td>-0.089925</td>\n",
       "      <td>-0.055626</td>\n",
       "      <td>0.026527</td>\n",
       "      <td>-0.322896</td>\n",
       "      <td>1.000000</td>\n",
       "      <td>-0.543305</td>\n",
       "    </tr>\n",
       "    <tr>\n",
       "      <th>service</th>\n",
       "      <td>-0.080681</td>\n",
       "      <td>-0.054080</td>\n",
       "      <td>0.187798</td>\n",
       "      <td>0.181939</td>\n",
       "      <td>0.113697</td>\n",
       "      <td>-0.618623</td>\n",
       "      <td>0.529995</td>\n",
       "      <td>0.465706</td>\n",
       "      <td>0.625770</td>\n",
       "      <td>0.088649</td>\n",
       "      <td>0.051980</td>\n",
       "      <td>0.260911</td>\n",
       "      <td>-0.543583</td>\n",
       "      <td>-0.351593</td>\n",
       "      <td>-0.615556</td>\n",
       "      <td>-0.543305</td>\n",
       "      <td>1.000000</td>\n",
       "    </tr>\n",
       "  </tbody>\n",
       "</table>\n",
       "</div>"
      ],
      "text/plain": [
       "                  population      area   density  coastline  migration  \\\n",
       "population          1.000000  0.469985 -0.028190  -0.068199   0.000011   \n",
       "area                0.469985  1.000000 -0.066917  -0.095627   0.047442   \n",
       "density            -0.028190 -0.066917  1.000000   0.241690   0.177990   \n",
       "coastline          -0.068199 -0.095627  0.241690   1.000000  -0.134035   \n",
       "migration           0.000011  0.047442  0.177990  -0.134035   1.000000   \n",
       "infant_mortality    0.022994 -0.007159 -0.144200  -0.136465  -0.025015   \n",
       "gdp                -0.039319  0.072179  0.195751   0.049109   0.381969   \n",
       "literacy           -0.043376  0.035784  0.095056   0.113651  -0.008506   \n",
       "phones             -0.030803  0.053360  0.280079   0.152050   0.239424   \n",
       "arable              0.188201 -0.079674 -0.080999  -0.120636  -0.057689   \n",
       "crops              -0.060741 -0.143844 -0.031655   0.341433  -0.340151   \n",
       "climate            -0.026439 -0.082128  0.006830  -0.031614  -0.014878   \n",
       "birthrate          -0.045075 -0.066389 -0.159150  -0.075715  -0.066523   \n",
       "deathrate          -0.028354  0.040049 -0.070022  -0.161703   0.033605   \n",
       "agriculture         0.000375 -0.050380 -0.105925  -0.028483  -0.105674   \n",
       "industry            0.099109  0.120907 -0.105524  -0.185124  -0.023679   \n",
       "service            -0.080681 -0.054080  0.187798   0.181939   0.113697   \n",
       "\n",
       "                  infant_mortality       gdp  literacy    phones    arable  \\\n",
       "population                0.022994 -0.039319 -0.043376 -0.030803  0.188201   \n",
       "area                     -0.007159  0.072179  0.035784  0.053360 -0.079674   \n",
       "density                  -0.144200  0.195751  0.095056  0.280079 -0.080999   \n",
       "coastline                -0.136465  0.049109  0.113651  0.152050 -0.120636   \n",
       "migration                -0.025015  0.381969 -0.008506  0.239424 -0.057689   \n",
       "infant_mortality          1.000000 -0.600002 -0.745543 -0.669715 -0.113094   \n",
       "gdp                      -0.600002  1.000000  0.497963  0.830549  0.019643   \n",
       "literacy                 -0.745543  0.497963  1.000000  0.549913  0.101927   \n",
       "phones                   -0.669715  0.830549  0.549913  1.000000  0.059606   \n",
       "arable                   -0.113094  0.019643  0.101927  0.059606  1.000000   \n",
       "crops                    -0.061159 -0.218330  0.038808 -0.149517  0.094361   \n",
       "climate                  -0.342848  0.302404  0.352569  0.358574  0.353444   \n",
       "birthrate                 0.844968 -0.648808 -0.755196 -0.722329 -0.183449   \n",
       "deathrate                 0.655734 -0.201148 -0.386376 -0.259708  0.052991   \n",
       "agriculture               0.697303 -0.570735 -0.585492 -0.571704 -0.034080   \n",
       "industry                  0.003510 -0.027935  0.060661 -0.140516 -0.061923   \n",
       "service                  -0.618623  0.529995  0.465706  0.625770  0.088649   \n",
       "\n",
       "                     crops   climate  birthrate  deathrate  agriculture  \\\n",
       "population       -0.060741 -0.026439  -0.045075  -0.028354     0.000375   \n",
       "area             -0.143844 -0.082128  -0.066389   0.040049    -0.050380   \n",
       "density          -0.031655  0.006830  -0.159150  -0.070022    -0.105925   \n",
       "coastline         0.341433 -0.031614  -0.075715  -0.161703    -0.028483   \n",
       "migration        -0.340151 -0.014878  -0.066523   0.033605    -0.105674   \n",
       "infant_mortality -0.061159 -0.342848   0.844968   0.655734     0.697303   \n",
       "gdp              -0.218330  0.302404  -0.648808  -0.201148    -0.570735   \n",
       "literacy          0.038808  0.352569  -0.755196  -0.386376    -0.585492   \n",
       "phones           -0.149517  0.358574  -0.722329  -0.259708    -0.571704   \n",
       "arable            0.094361  0.353444  -0.183449   0.052991    -0.034080   \n",
       "crops             1.000000  0.004121   0.117851  -0.201520     0.051367   \n",
       "climate           0.004121  1.000000  -0.427579   0.010458    -0.200416   \n",
       "birthrate         0.117851 -0.427579   1.000000   0.395293     0.664903   \n",
       "deathrate        -0.201520  0.010458   0.395293   1.000000     0.376291   \n",
       "agriculture       0.051367 -0.200416   0.664903   0.376291     1.000000   \n",
       "industry         -0.113796 -0.089925  -0.055626   0.026527    -0.322896   \n",
       "service           0.051980  0.260911  -0.543583  -0.351593    -0.615556   \n",
       "\n",
       "                  industry   service  \n",
       "population        0.099109 -0.080681  \n",
       "area              0.120907 -0.054080  \n",
       "density          -0.105524  0.187798  \n",
       "coastline        -0.185124  0.181939  \n",
       "migration        -0.023679  0.113697  \n",
       "infant_mortality  0.003510 -0.618623  \n",
       "gdp              -0.027935  0.529995  \n",
       "literacy          0.060661  0.465706  \n",
       "phones           -0.140516  0.625770  \n",
       "arable           -0.061923  0.088649  \n",
       "crops            -0.113796  0.051980  \n",
       "climate          -0.089925  0.260911  \n",
       "birthrate        -0.055626 -0.543583  \n",
       "deathrate         0.026527 -0.351593  \n",
       "agriculture      -0.322896 -0.615556  \n",
       "industry          1.000000 -0.543305  \n",
       "service          -0.543305  1.000000  "
      ]
     },
     "execution_count": 150,
     "metadata": {},
     "output_type": "execute_result"
    }
   ],
   "source": [
    "#Lets look at the dataset correlation map.\n",
    "data.corr()"
   ]
  },
  {
   "cell_type": "markdown",
   "metadata": {},
   "source": [
    "The output dataframe can be interpreted by looking at the values at the intersection of a row with a column. The correlation of a row with a column with the same name is 1.00. For that reason all the diagonal values are 1.00.\n",
    "\n",
    "Correlation coefficients are always values between -1 and 1, where -1 shows a perfect negative correlation and 1 shows a perfect positive correlation.\n",
    "\n",
    "For example, for two variables, A and B, an increase in A is associated with an increase in B if they have positive correlation and a decrease in B if they have negative correlation."
   ]
  },
  {
   "cell_type": "markdown",
   "metadata": {},
   "source": [
    "##### It's quite hard to see possible correlations from the above table format. What better way to understand information if not by using visual images?"
   ]
  },
  {
   "cell_type": "markdown",
   "metadata": {},
   "source": [
    "Let's try to create a heatmap from the table where values of 1 are coloured with white and values with 0 are coloured with black. Anything in between will be a gradient: black - red - white "
   ]
  },
  {
   "cell_type": "code",
   "execution_count": 151,
   "metadata": {},
   "outputs": [
    {
     "data": {
      "image/png": "[encoded data removed]",
      "text/plain": [
       "<Figure size 1296x720 with 2 Axes>"
      ]
     },
     "metadata": {
      "needs_background": "light"
     },
     "output_type": "display_data"
    }
   ],
   "source": [
    "plt.subplots(figsize = (18,10))\n",
    "#annot = True so we can see the numbers in square, fmt sets how many number of digits we see after after comma\n",
    "sns.heatmap(data.corr(), annot = True, linewidth = 0.5, fmt = \".1f\") \n",
    "plt.show()"
   ]
  },
  {
   "cell_type": "markdown",
   "metadata": {},
   "source": [
    "##### Given above correlation heatmap, do you think there is any relation between GDP (per capita) and Phones?\n",
    "\n",
    "##### What other correlations can you find in the dataset?"
   ]
  },
  {
   "cell_type": "markdown",
   "metadata": {},
   "source": [
    "### 4.3. What is the distribution of the infant mortality rates? "
   ]
  },
  {
   "cell_type": "markdown",
   "metadata": {},
   "source": [
    "When dealing with large amounts of data, one of the first things that we usually do is we look at how the values are distributed by using a \"histogram\" plot."
   ]
  },
  {
   "cell_type": "markdown",
   "metadata": {},
   "source": [
    "#IMR (infant mortality rate) - the number of deaths per 1,000 live births of children under one year of age"
   ]
  },
  {
   "cell_type": "code",
   "execution_count": 152,
   "metadata": {},
   "outputs": [
    {
     "data": {
      "image/png": "[encoded data removed]",
      "text/plain": [
       "<Figure size 432x288 with 1 Axes>"
      ]
     },
     "metadata": {
      "needs_background": "light"
     },
     "output_type": "display_data"
    }
   ],
   "source": [
    "axes = sns.distplot(data[\"infant_mortality\"], kde = False) \n",
    "axes.set(xlabel='infant_mortality', ylabel='#nr of countries')\n",
    "plt.show()"
   ]
  },
  {
   "cell_type": "markdown",
   "metadata": {},
   "source": [
    "##### What do you think the above plot is showing us? "
   ]
  },
  {
   "cell_type": "markdown",
   "metadata": {},
   "source": [
    "##### Is there are correlation between infant mortality rates and the GDP per capita?\n",
    "\n",
    "##### Can you identify which countries have the highest infant mortality rates?"
   ]
  }
 ],
 "metadata": {
  "kernelspec": {
   "display_name": "Python 3",
   "language": "python",
   "name": "python3"
  },
  "language_info": {
   "codemirror_mode": {
    "name": "ipython",
    "version": 3
   },
   "file_extension": ".py",
   "mimetype": "text/x-python",
   "name": "python",
   "nbconvert_exporter": "python",
   "pygments_lexer": "ipython3",
   "version": "3.7.3"
  }
 },
 "nbformat": 4,
 "nbformat_minor": 2
}
